{
  "nbformat": 4,
  "nbformat_minor": 0,
  "metadata": {
    "colab": {
      "provenance": [],
      "gpuType": "T4"
    },
    "kernelspec": {
      "name": "python3",
      "display_name": "Python 3"
    },
    "language_info": {
      "name": "python"
    },
    "accelerator": "GPU"
  },
  "cells": [
    {
      "cell_type": "code",
      "source": [
        "!pip install rarfile --quiet\n",
        "\n"
      ],
      "metadata": {
        "id": "a_w9BNOy3rTJ"
      },
      "execution_count": 1,
      "outputs": []
    },
    {
      "cell_type": "code",
      "source": [
        "!pip install onnx"
      ],
      "metadata": {
        "colab": {
          "base_uri": "https://localhost:8080/"
        },
        "id": "H2gcnZaSG4oe",
        "outputId": "a0fd630a-ff8f-42c8-ed56-5458ac17c891"
      },
      "execution_count": 2,
      "outputs": [
        {
          "output_type": "stream",
          "name": "stdout",
          "text": [
            "Collecting onnx\n",
            "  Downloading onnx-1.19.0-cp312-cp312-manylinux2014_x86_64.manylinux_2_17_x86_64.whl.metadata (7.0 kB)\n",
            "Requirement already satisfied: numpy>=1.22 in /usr/local/lib/python3.12/dist-packages (from onnx) (2.0.2)\n",
            "Requirement already satisfied: protobuf>=4.25.1 in /usr/local/lib/python3.12/dist-packages (from onnx) (5.29.5)\n",
            "Requirement already satisfied: typing_extensions>=4.7.1 in /usr/local/lib/python3.12/dist-packages (from onnx) (4.15.0)\n",
            "Requirement already satisfied: ml_dtypes in /usr/local/lib/python3.12/dist-packages (from onnx) (0.5.3)\n",
            "Downloading onnx-1.19.0-cp312-cp312-manylinux2014_x86_64.manylinux_2_17_x86_64.whl (18.2 MB)\n",
            "\u001b[2K   \u001b[90m━━━━━━━━━━━━━━━━━━━━━━━━━━━━━━━━━━━━━━━━\u001b[0m \u001b[32m18.2/18.2 MB\u001b[0m \u001b[31m65.4 MB/s\u001b[0m eta \u001b[36m0:00:00\u001b[0m\n",
            "\u001b[?25hInstalling collected packages: onnx\n",
            "Successfully installed onnx-1.19.0\n"
          ]
        }
      ]
    },
    {
      "cell_type": "code",
      "execution_count": 3,
      "metadata": {
        "id": "Xb_tE8t43bGf"
      },
      "outputs": [],
      "source": [
        "\n",
        "import rarfile\n",
        "\n",
        "# Point to your .rar file\n",
        "rar = rarfile.RarFile(\"/content/drive/MyDrive/Data.rar\")\n",
        "rar.extractall(\"/content/unzipped\")\n"
      ]
    },
    {
      "cell_type": "code",
      "source": [
        "\n",
        "import os\n",
        "import numpy as np\n",
        "import pandas as pd\n",
        "import scipy.io as sio\n",
        "import torch\n",
        "import torch.nn as nn\n",
        "import torch.optim as optim\n",
        "from torch.utils.data import Dataset, DataLoader, WeightedRandomSampler\n",
        "from sklearn.model_selection import KFold\n",
        "from sklearn.preprocessing import StandardScaler\n",
        "from sklearn.metrics import accuracy_score, classification_report, confusion_matrix, ConfusionMatrixDisplay\n",
        "from imblearn.over_sampling import SMOTE\n",
        "import matplotlib.pyplot as plt\n",
        "from tqdm import tqdm\n",
        "import torch.onnx\n",
        "from torch.optim.lr_scheduler import CosineAnnealingLR\n",
        "from scipy import signal\n",
        "\n",
        "# ----------------------------\n",
        "# Config\n",
        "# ----------------------------\n",
        "DATA_PATH = \"/content/unzipped/Data/filtered_data\"\n",
        "SCALE_FILE = \"/content/score.csv\"\n",
        "DEVICE = torch.device(\"cuda\" if torch.cuda.is_available() else \"cpu\")\n",
        "BATCH_SIZE = 32\n",
        "EPOCHS = 150  # Increased for better convergence\n",
        "LR = 1e-4\n",
        "MODE = \"3class\"\n",
        "K_FOLDS = 5\n",
        "NOISE_STD = 0.03  # More aggressive noise\n",
        "JITTER_MAX = 15  # Increased jitter\n",
        "LABEL_SMOOTHING = 0.1  # For loss function\n",
        "\n",
        "# ----------------------------\n",
        "# Helper function to get score from CSV\n",
        "# ----------------------------\n",
        "def get_score(scales_df, subject_idx, trial_num, task_type):\n",
        "    task_type = str(task_type).lower()\n",
        "    if task_type.startswith(\"arithmetic\"):\n",
        "        task_col = \"Maths\"\n",
        "        col_name = f\"Trial_{trial_num}\"\n",
        "    elif task_type.startswith(\"stroop\"):\n",
        "        task_col = \"Stroop\"\n",
        "        col_name = f\"Unnamed: {(trial_num - 1) * 3 + 3}\"\n",
        "    elif task_type.startswith(\"mirror\"):\n",
        "        task_col = \"Symmetry\"\n",
        "        col_name = f\"Unnamed: {(trial_num - 1) * 3 + 2}\"\n",
        "    else:\n",
        "        print(f\"Unknown task type: {task_type}\")\n",
        "        return None\n",
        "    if col_name in scales_df.columns:\n",
        "        try:\n",
        "            score = scales_df.loc[scales_df[\"Subject No.\"] == float(subject_idx), col_name]\n",
        "            if score.empty:\n",
        "                print(f\"No score found for subject {subject_idx}, trial {trial_num}, task {task_col}\")\n",
        "                return None\n",
        "            return float(score.iloc[0])\n",
        "        except Exception as e:\n",
        "            print(f\"Error accessing score for subject {subject_idx}, trial {trial_num}, task {task_col}: {e}\")\n",
        "            return None\n",
        "    else:\n",
        "        print(f\"Column {col_name} not found in CSV\")\n",
        "        return None\n",
        "\n",
        "# ----------------------------\n",
        "# Frequency Feature Extraction\n",
        "# ----------------------------\n",
        "def extract_frequency_features(data, fs=128):\n",
        "    # Assume EEG sampling rate is 128 Hz\n",
        "    freqs, psd = signal.welch(data, fs=fs, axis=-1, nperseg=256)\n",
        "    # Select frequency bands: delta (0-4 Hz), theta (4-8 Hz), alpha (8-12 Hz), beta (12-30 Hz)\n",
        "    bands = [(0, 4), (4, 8), (8, 12), (12, 30)]\n",
        "    band_features = []\n",
        "    for low, high in bands:\n",
        "        idx = (freqs >= low) & (freqs < high)\n",
        "        band_power = np.mean(psd[..., idx], axis=-1)\n",
        "        band_features.append(band_power)\n",
        "    return np.stack(band_features, axis=-1)  # Shape: (N, C, 4)\n",
        "\n",
        "# ----------------------------\n",
        "# Data Loader with SMOTE\n",
        "# ----------------------------\n",
        "def load_eeg_trials(mode=\"binary\"):\n",
        "    scales_df = pd.read_csv(SCALE_FILE)\n",
        "    print(\"CSV Columns:\", scales_df.columns.tolist())\n",
        "    X, y = [], []\n",
        "    for fname in os.listdir(DATA_PATH):\n",
        "        if not fname.endswith(\".mat\"):\n",
        "            continue\n",
        "        name = fname.replace(\".mat\", \"\")\n",
        "        sub_index = name.find('_sub_')\n",
        "        if sub_index == -1:\n",
        "            print(f\"Could not find '_sub_' in filename: {fname}\")\n",
        "            continue\n",
        "        task = name[:sub_index]\n",
        "        remaining = name[sub_index + 5:]\n",
        "        parts = remaining.split('_')\n",
        "        if len(parts) < 2:\n",
        "            print(f\"Could not parse subject/trial from: {fname}\")\n",
        "            continue\n",
        "        try:\n",
        "            subject = int(parts[0])\n",
        "            trial = int(parts[1].replace(\"trial\", \"\"))\n",
        "        except ValueError as e:\n",
        "            print(f\"Error parsing numbers from {fname}: {e}\")\n",
        "            continue\n",
        "        mat = sio.loadmat(os.path.join(DATA_PATH, fname))\n",
        "        data = None\n",
        "        for key in mat.keys():\n",
        "            if not key.startswith(\"__\"):\n",
        "                data = mat[key]\n",
        "                break\n",
        "        if data is None:\n",
        "            continue\n",
        "        if task.lower().startswith(\"relax\"):\n",
        "            if mode == \"binary\":\n",
        "                label = 0\n",
        "            elif mode == \"3class\":\n",
        "                continue\n",
        "            elif mode == \"4class\":\n",
        "                label = 0\n",
        "        else:\n",
        "            score = get_score(scales_df, subject, trial, task)\n",
        "            if score is None or not isinstance(score, (int, float)):\n",
        "                print(f\"Invalid or missing score for {task} subject {subject} trial {trial}: {score}\")\n",
        "                continue\n",
        "            if mode == \"binary\":\n",
        "                label = 1\n",
        "            elif mode == \"3class\":\n",
        "                if score <= 3:\n",
        "                    label = 0\n",
        "                elif score <= 6:\n",
        "                    label = 1\n",
        "                else:\n",
        "                    label = 2\n",
        "            elif mode == \"4class\":\n",
        "                if score <= 3:\n",
        "                    label = 1\n",
        "                elif score <= 6:\n",
        "                    label = 2\n",
        "                else:\n",
        "                    label = 3\n",
        "        X.append(data)\n",
        "        y.append(label)\n",
        "    X = np.array(X, dtype=np.float32)\n",
        "    y = np.array(y, dtype=np.int64)\n",
        "\n",
        "    # Extract frequency features\n",
        "    X_freq = extract_frequency_features(X)\n",
        "    # Standardize raw data\n",
        "    N, C, T = X.shape\n",
        "    X = X.reshape(N, -1)\n",
        "    scaler = StandardScaler()\n",
        "    X = scaler.fit_transform(X)\n",
        "    X = X.reshape(N, C, T)\n",
        "    # Standardize frequency features\n",
        "    X_freq = X_freq.reshape(N, -1)\n",
        "    X_freq = scaler.fit_transform(X_freq)\n",
        "    X_freq = X_freq.reshape(N, C, 4)\n",
        "    # Concatenate raw and frequency features\n",
        "    X = np.concatenate([X, X_freq], axis=-1)  # Shape: (N, C, T+4)\n",
        "    print(f\"Loaded {len(X)} samples with {len(np.unique(y))} classes\")\n",
        "    print(f\"Class distribution: {np.bincount(y)}\")\n",
        "\n",
        "    # Apply SMOTE to balance classes\n",
        "    smote = SMOTE(random_state=42)\n",
        "    X_reshaped = X.reshape(N, -1)\n",
        "    X_resampled, y_resampled = smote.fit_resample(X_reshaped, y)\n",
        "    X = X_resampled.reshape(-1, C, X.shape[-1])\n",
        "    print(f\"After SMOTE: {len(X)} samples, Class distribution: {np.bincount(y_resampled)}\")\n",
        "    return X, y_resampled\n",
        "\n",
        "# ----------------------------\n",
        "# Dataset Class with Augmentation\n",
        "# ----------------------------\n",
        "class EEGDataset(Dataset):\n",
        "    def __init__(self, X, y, augment=False):\n",
        "        self.X = torch.tensor(X, dtype=torch.float32)\n",
        "        self.y = torch.tensor(y, dtype=torch.long)\n",
        "        self.augment = augment\n",
        "\n",
        "    def __len__(self):\n",
        "        return len(self.y)\n",
        "\n",
        "    def __getitem__(self, idx):\n",
        "        x = self.X[idx]\n",
        "        if self.augment:\n",
        "            noise = torch.normal(mean=0.0, std=NOISE_STD, size=x.shape)\n",
        "            x = x + noise\n",
        "            shift = np.random.randint(-JITTER_MAX, JITTER_MAX)\n",
        "            x = torch.roll(x, shifts=shift, dims=-1)\n",
        "        return x, self.y[idx]\n",
        "\n",
        "# ----------------------------\n",
        "# CNN-LSTM with Attention\n",
        "# ----------------------------\n",
        "class CNNLSTM(nn.Module):\n",
        "    def __init__(self, num_channels, time_steps, num_classes):\n",
        "        super(CNNLSTM, self).__init__()\n",
        "        # Conv Block 1\n",
        "        self.conv1 = nn.Conv1d(num_channels, 128, kernel_size=3, padding=1)\n",
        "        self.bn1 = nn.BatchNorm1d(128)\n",
        "        self.conv2 = nn.Conv1d(128, 128, kernel_size=3, padding=1)\n",
        "        self.bn2 = nn.BatchNorm1d(128)\n",
        "        self.pool1 = nn.MaxPool1d(2)\n",
        "        # Conv Block 2\n",
        "        self.conv3 = nn.Conv1d(128, 256, kernel_size=3, padding=1)\n",
        "        self.bn3 = nn.BatchNorm1d(256)\n",
        "        self.conv4 = nn.Conv1d(256, 256, kernel_size=3, padding=1)\n",
        "        self.bn4 = nn.BatchNorm1d(256)\n",
        "        self.pool2 = nn.MaxPool1d(2)\n",
        "        # Conv Block 3\n",
        "        self.conv5 = nn.Conv1d(256, 512, kernel_size=3, padding=1)\n",
        "        self.bn5 = nn.BatchNorm1d(512)\n",
        "        self.conv6 = nn.Conv1d(512, 512, kernel_size=3, padding=1)\n",
        "        self.bn6 = nn.BatchNorm1d(512)\n",
        "        self.pool3 = nn.MaxPool1d(2)\n",
        "        # LSTM with Attention\n",
        "        self.lstm = nn.LSTM(input_size=512, hidden_size=256, num_layers=2, batch_first=True)\n",
        "        self.attention = nn.Linear(256, 1)\n",
        "        # Fully connected layers\n",
        "        self.fc1 = nn.Linear(256, 256)\n",
        "        self.fc2 = nn.Linear(256, 128)\n",
        "        self.dropout = nn.Dropout(0.7)\n",
        "        self.fc3 = nn.Linear(128, num_classes)\n",
        "        self._initialize_weights()\n",
        "\n",
        "    def forward(self, x):\n",
        "        # Conv Block 1\n",
        "        residual = self.conv1(x)\n",
        "        x = torch.relu(self.bn1(residual))\n",
        "        x = self.conv2(x)\n",
        "        x = torch.relu(self.bn2(x + residual))\n",
        "        x = self.pool1(x)  # (N, 128, T//2)\n",
        "        # Conv Block 2\n",
        "        residual = self.conv3(x)\n",
        "        x = torch.relu(self.bn3(residual))\n",
        "        x = self.conv4(x)\n",
        "        x = torch.relu(self.bn4(x + residual))\n",
        "        x = self.pool2(x)  # (N, 256, T//4)\n",
        "        # Conv Block 3\n",
        "        residual = self.conv5(x)\n",
        "        x = torch.relu(self.bn5(residual))\n",
        "        x = self.conv6(x)\n",
        "        x = torch.relu(self.bn6(x + residual))\n",
        "        x = self.pool3(x)  # (N, 512, T//8)\n",
        "        # LSTM with Attention\n",
        "        x = x.permute(0, 2, 1)  # (N, T//8, 512)\n",
        "        lstm_out, _ = self.lstm(x)  # (N, T//8, 256)\n",
        "        attn_weights = torch.softmax(self.attention(lstm_out), dim=1)  # (N, T//8, 1)\n",
        "        attn_out = torch.sum(lstm_out * attn_weights, dim=1)  # (N, 256)\n",
        "        # Fully connected layers\n",
        "        x = torch.relu(self.fc1(attn_out))\n",
        "        x = torch.relu(self.fc2(x))\n",
        "        x = self.dropout(x)\n",
        "        x = self.fc3(x)\n",
        "        return x\n",
        "\n",
        "    def _initialize_weights(self):\n",
        "        for m in self.modules():\n",
        "            if isinstance(m, nn.Conv1d) or isinstance(m, nn.Linear):\n",
        "                nn.init.xavier_uniform_(m.weight)\n",
        "                if m.bias is not None:\n",
        "                    nn.init.zeros_(m.bias)\n",
        "            elif isinstance(m, nn.LSTM):\n",
        "                for name, param in m.named_parameters():\n",
        "                    if 'weight_ih' in name:\n",
        "                        nn.init.xavier_uniform_(param.data)\n",
        "                    elif 'weight_hh' in name:\n",
        "                        nn.init.orthogonal_(param.data)\n",
        "                    elif 'bias' in name:\n",
        "                        param.data.fill_(0)\n",
        "\n",
        "# ----------------------------\n",
        "# Label Smoothing Loss\n",
        "# ----------------------------\n",
        "class LabelSmoothingLoss(nn.Module):\n",
        "    def __init__(self, classes, smoothing=0.0):\n",
        "        super(LabelSmoothingLoss, self).__init__()\n",
        "        self.confidence = 1.0 - smoothing\n",
        "        self.smoothing = smoothing\n",
        "        self.cls = classes\n",
        "\n",
        "    def forward(self, pred, target):\n",
        "        pred = pred.log_softmax(dim=-1)\n",
        "        with torch.no_grad():\n",
        "            true_dist = torch.zeros_like(pred)\n",
        "            true_dist.fill_(self.smoothing / (self.cls - 1))\n",
        "            true_dist.scatter_(1, target.data.unsqueeze(1), self.confidence)\n",
        "        return torch.mean(torch.sum(-true_dist * pred, dim=-1))\n",
        "\n",
        "# ----------------------------\n",
        "# Training Loop with K-Fold\n",
        "# ----------------------------\n",
        "def train_and_evaluate():\n",
        "    X, y = load_eeg_trials(MODE)\n",
        "    if len(X) == 0:\n",
        "        print(\"No data loaded! Please check your file paths and CSV structure.\")\n",
        "        return\n",
        "\n",
        "    kfold = KFold(n_splits=K_FOLDS, shuffle=True, random_state=42)\n",
        "    fold_accuracies = []\n",
        "    best_avg_acc = 0\n",
        "    best_model_state = None\n",
        "    num_classes = len(np.unique(y))\n",
        "    class_weights = torch.tensor([max(np.bincount(y)) / count for count in np.bincount(y)], dtype=torch.float32).to(DEVICE)\n",
        "\n",
        "    for fold, (train_idx, val_idx) in enumerate(kfold.split(X)):\n",
        "        print(f\"\\nFold {fold + 1}/{K_FOLDS}\")\n",
        "        train_dataset = EEGDataset(X[train_idx], y[train_idx], augment=True)\n",
        "        val_dataset = EEGDataset(X[val_idx], y[val_idx], augment=False)\n",
        "\n",
        "        train_labels = y[train_idx]\n",
        "        sample_weights = [max(np.bincount(y)) / np.bincount(y)[label] for label in train_labels]\n",
        "        sampler = WeightedRandomSampler(weights=sample_weights, num_samples=len(sample_weights), replacement=True)\n",
        "\n",
        "        train_loader = DataLoader(train_dataset, batch_size=BATCH_SIZE, sampler=sampler)\n",
        "        val_loader = DataLoader(val_dataset, batch_size=BATCH_SIZE)\n",
        "\n",
        "        model = CNNLSTM(num_channels=X.shape[1], time_steps=X.shape[2], num_classes=num_classes).to(DEVICE)\n",
        "        optimizer = optim.Adam(model.parameters(), lr=LR)\n",
        "        criterion = LabelSmoothingLoss(classes=num_classes, smoothing=LABEL_SMOOTHING)\n",
        "        scheduler = CosineAnnealingLR(optimizer, T_max=len(train_loader)*10, eta_min=1e-6)\n",
        "\n",
        "        best_acc, patience, wait = 0, 20, 0\n",
        "        for epoch in range(EPOCHS):\n",
        "            model.train()\n",
        "            train_loss = 0\n",
        "            pbar = tqdm(train_loader, desc=f\"Fold {fold+1} Epoch {epoch+1}/{EPOCHS}\")\n",
        "            for X_batch, y_batch in pbar:\n",
        "                X_batch, y_batch = X_batch.to(DEVICE), y_batch.to(DEVICE)\n",
        "                optimizer.zero_grad()\n",
        "                outputs = model(X_batch)\n",
        "                loss = criterion(outputs, y_batch)\n",
        "                loss.backward()\n",
        "                torch.nn.utils.clip_grad_norm_(model.parameters(), max_norm=1.0)\n",
        "                optimizer.step()\n",
        "                scheduler.step()\n",
        "                train_loss += loss.item()\n",
        "                pbar.set_postfix({\"loss\": loss.item()})\n",
        "\n",
        "            model.eval()\n",
        "            y_true, y_pred = [], []\n",
        "            with torch.no_grad():\n",
        "                for X_batch, y_batch in val_loader:\n",
        "                    X_batch, y_batch = X_batch.to(DEVICE), y_batch.to(DEVICE)\n",
        "                    outputs = model(X_batch)\n",
        "                    preds = torch.argmax(outputs, dim=1)\n",
        "                    y_true.extend(y_batch.cpu().numpy())\n",
        "                    y_pred.extend(preds.cpu().numpy())\n",
        "            acc = accuracy_score(y_true, y_pred)\n",
        "            print(f\"Fold {fold+1} Epoch {epoch+1} - Train Loss: {train_loss/len(train_loader):.4f} | Val Acc: {acc:.4f}\")\n",
        "\n",
        "            if acc > best_acc:\n",
        "                best_acc = acc\n",
        "                wait = 0\n",
        "                torch.save(model.state_dict(), f\"best_model_fold{fold+1}.pth\")\n",
        "            else:\n",
        "                wait += 1\n",
        "                if wait >= patience:\n",
        "                    print(f\"Early stopping triggered for fold {fold+1}\")\n",
        "                    break\n",
        "\n",
        "        fold_accuracies.append(best_acc)\n",
        "        print(f\"\\nFold {fold+1} Classification Report:\")\n",
        "        print(classification_report(y_true, y_pred))\n",
        "        cm = confusion_matrix(y_true, y_pred)\n",
        "        disp = ConfusionMatrixDisplay(confusion_matrix=cm)\n",
        "        disp.plot(cmap=\"Blues\")\n",
        "        plt.title(f\"Fold {fold+1} Confusion Matrix\")\n",
        "        plt.show()\n",
        "\n",
        "        if np.mean(fold_accuracies) > best_avg_acc:\n",
        "            best_avg_acc = np.mean(fold_accuracies)\n",
        "            best_model_state = model.state_dict()\n",
        "\n",
        "    print(f\"\\nK-Fold Cross-Validation Results:\")\n",
        "    print(f\"Fold Accuracies: {[f'{acc:.4f}' for acc in fold_accuracies]}\")\n",
        "    print(f\"Average Validation Accuracy: {best_avg_acc:.4f}\")\n",
        "\n",
        "    if best_model_state is not None:\n",
        "        model.load_state_dict(best_model_state)\n",
        "        torch.save(model.state_dict(), \"best_model.pth\")\n",
        "        model.eval()\n",
        "        dummy_input = torch.randn(1, X.shape[1], X.shape[2]).to(DEVICE)\n",
        "        torch.onnx.export(\n",
        "            model,\n",
        "            dummy_input,\n",
        "            \"best_model.onnx\",\n",
        "            export_params=True,\n",
        "            opset_version=11,\n",
        "            do_constant_folding=True,\n",
        "            input_names=['input'],\n",
        "            output_names=['output'],\n",
        "            dynamic_axes={'input': {0: 'batch_size'}, 'output': {0: 'batch_size'}}\n",
        "        )\n",
        "        print(\"Best model exported to ONNX format: best_model.onnx\")\n",
        "\n",
        "    if best_avg_acc < 0.80:\n",
        "        print(\"Warning: Average validation accuracy is below 80%. Consider:\")\n",
        "        print(\"1. Collecting more EEG data to increase sample size.\")\n",
        "        print(\"2. Applying advanced EEG feature extraction (e.g., wavelet transforms).\")\n",
        "        print(\"3. Experimenting with different architectures (e.g., transformers).\")\n",
        "        print(\"4. Fine-tuning hyperparameters (learning rate, batch size).\")\n",
        "\n",
        "# ----------------------------\n",
        "# Run\n",
        "# ----------------------------\n",
        "if __name__ == \"__main__\":\n",
        "    train_and_evaluate()\n"
      ],
      "metadata": {
        "colab": {
          "base_uri": "https://localhost:8080/",
          "height": 1000
        },
        "id": "w0wHGCCz3yXi",
        "outputId": "30fe77a6-1af7-40d7-dcf9-8dd59d5733bb"
      },
      "execution_count": 6,
      "outputs": [
        {
          "output_type": "stream",
          "name": "stdout",
          "text": [
            "CSV Columns: ['Subject No.', 'Trial_1', 'Unnamed: 2', 'Unnamed: 3', 'Trial_2', 'Unnamed: 5', 'Unnamed: 6', 'Trial_3', 'Unnamed: 8', 'Unnamed: 9']\n",
            "Loaded 360 samples with 3 classes\n",
            "Class distribution: [102 188  70]\n",
            "After SMOTE: 564 samples, Class distribution: [188 188 188]\n",
            "\n",
            "Fold 1/5\n"
          ]
        },
        {
          "output_type": "stream",
          "name": "stderr",
          "text": [
            "Fold 1 Epoch 1/150: 100%|██████████| 15/15 [00:03<00:00,  4.86it/s, loss=1.02]\n"
          ]
        },
        {
          "output_type": "stream",
          "name": "stdout",
          "text": [
            "Fold 1 Epoch 1 - Train Loss: 1.0721 | Val Acc: 0.3628\n"
          ]
        },
        {
          "output_type": "stream",
          "name": "stderr",
          "text": [
            "Fold 1 Epoch 2/150: 100%|██████████| 15/15 [00:02<00:00,  5.35it/s, loss=1.42]\n"
          ]
        },
        {
          "output_type": "stream",
          "name": "stdout",
          "text": [
            "Fold 1 Epoch 2 - Train Loss: 1.0874 | Val Acc: 0.4159\n"
          ]
        },
        {
          "output_type": "stream",
          "name": "stderr",
          "text": [
            "Fold 1 Epoch 3/150: 100%|██████████| 15/15 [00:02<00:00,  5.56it/s, loss=1.06]\n"
          ]
        },
        {
          "output_type": "stream",
          "name": "stdout",
          "text": [
            "Fold 1 Epoch 3 - Train Loss: 1.0484 | Val Acc: 0.4248\n"
          ]
        },
        {
          "output_type": "stream",
          "name": "stderr",
          "text": [
            "Fold 1 Epoch 4/150: 100%|██████████| 15/15 [00:02<00:00,  5.49it/s, loss=1.32]\n"
          ]
        },
        {
          "output_type": "stream",
          "name": "stdout",
          "text": [
            "Fold 1 Epoch 4 - Train Loss: 1.0722 | Val Acc: 0.3540\n"
          ]
        },
        {
          "output_type": "stream",
          "name": "stderr",
          "text": [
            "Fold 1 Epoch 5/150: 100%|██████████| 15/15 [00:02<00:00,  5.38it/s, loss=0.99]\n"
          ]
        },
        {
          "output_type": "stream",
          "name": "stdout",
          "text": [
            "Fold 1 Epoch 5 - Train Loss: 1.0428 | Val Acc: 0.4071\n"
          ]
        },
        {
          "output_type": "stream",
          "name": "stderr",
          "text": [
            "Fold 1 Epoch 6/150: 100%|██████████| 15/15 [00:02<00:00,  5.08it/s, loss=1.11]\n"
          ]
        },
        {
          "output_type": "stream",
          "name": "stdout",
          "text": [
            "Fold 1 Epoch 6 - Train Loss: 1.0464 | Val Acc: 0.4248\n"
          ]
        },
        {
          "output_type": "stream",
          "name": "stderr",
          "text": [
            "Fold 1 Epoch 7/150: 100%|██████████| 15/15 [00:02<00:00,  5.51it/s, loss=1.17]\n"
          ]
        },
        {
          "output_type": "stream",
          "name": "stdout",
          "text": [
            "Fold 1 Epoch 7 - Train Loss: 1.0258 | Val Acc: 0.4336\n"
          ]
        },
        {
          "output_type": "stream",
          "name": "stderr",
          "text": [
            "Fold 1 Epoch 8/150: 100%|██████████| 15/15 [00:02<00:00,  5.45it/s, loss=1.17]\n"
          ]
        },
        {
          "output_type": "stream",
          "name": "stdout",
          "text": [
            "Fold 1 Epoch 8 - Train Loss: 1.0266 | Val Acc: 0.3982\n"
          ]
        },
        {
          "output_type": "stream",
          "name": "stderr",
          "text": [
            "Fold 1 Epoch 9/150: 100%|██████████| 15/15 [00:02<00:00,  5.37it/s, loss=0.784]\n"
          ]
        },
        {
          "output_type": "stream",
          "name": "stdout",
          "text": [
            "Fold 1 Epoch 9 - Train Loss: 1.0065 | Val Acc: 0.4159\n"
          ]
        },
        {
          "output_type": "stream",
          "name": "stderr",
          "text": [
            "Fold 1 Epoch 10/150: 100%|██████████| 15/15 [00:02<00:00,  5.00it/s, loss=1.1]\n"
          ]
        },
        {
          "output_type": "stream",
          "name": "stdout",
          "text": [
            "Fold 1 Epoch 10 - Train Loss: 1.0255 | Val Acc: 0.4336\n"
          ]
        },
        {
          "output_type": "stream",
          "name": "stderr",
          "text": [
            "Fold 1 Epoch 11/150: 100%|██████████| 15/15 [00:02<00:00,  5.38it/s, loss=1.17]\n"
          ]
        },
        {
          "output_type": "stream",
          "name": "stdout",
          "text": [
            "Fold 1 Epoch 11 - Train Loss: 1.0414 | Val Acc: 0.4248\n"
          ]
        },
        {
          "output_type": "stream",
          "name": "stderr",
          "text": [
            "Fold 1 Epoch 12/150: 100%|██████████| 15/15 [00:02<00:00,  5.38it/s, loss=0.898]\n"
          ]
        },
        {
          "output_type": "stream",
          "name": "stdout",
          "text": [
            "Fold 1 Epoch 12 - Train Loss: 1.0080 | Val Acc: 0.4425\n"
          ]
        },
        {
          "output_type": "stream",
          "name": "stderr",
          "text": [
            "Fold 1 Epoch 13/150: 100%|██████████| 15/15 [00:02<00:00,  5.36it/s, loss=0.963]\n"
          ]
        },
        {
          "output_type": "stream",
          "name": "stdout",
          "text": [
            "Fold 1 Epoch 13 - Train Loss: 1.0137 | Val Acc: 0.4336\n"
          ]
        },
        {
          "output_type": "stream",
          "name": "stderr",
          "text": [
            "Fold 1 Epoch 14/150: 100%|██████████| 15/15 [00:02<00:00,  5.09it/s, loss=1.1]\n"
          ]
        },
        {
          "output_type": "stream",
          "name": "stdout",
          "text": [
            "Fold 1 Epoch 14 - Train Loss: 1.0342 | Val Acc: 0.4425\n"
          ]
        },
        {
          "output_type": "stream",
          "name": "stderr",
          "text": [
            "Fold 1 Epoch 15/150: 100%|██████████| 15/15 [00:02<00:00,  5.17it/s, loss=1.15]\n"
          ]
        },
        {
          "output_type": "stream",
          "name": "stdout",
          "text": [
            "Fold 1 Epoch 15 - Train Loss: 1.0047 | Val Acc: 0.4602\n"
          ]
        },
        {
          "output_type": "stream",
          "name": "stderr",
          "text": [
            "Fold 1 Epoch 16/150: 100%|██████████| 15/15 [00:02<00:00,  5.26it/s, loss=1.05]\n"
          ]
        },
        {
          "output_type": "stream",
          "name": "stdout",
          "text": [
            "Fold 1 Epoch 16 - Train Loss: 0.9917 | Val Acc: 0.5133\n"
          ]
        },
        {
          "output_type": "stream",
          "name": "stderr",
          "text": [
            "Fold 1 Epoch 17/150: 100%|██████████| 15/15 [00:02<00:00,  5.38it/s, loss=1.04]\n"
          ]
        },
        {
          "output_type": "stream",
          "name": "stdout",
          "text": [
            "Fold 1 Epoch 17 - Train Loss: 0.9723 | Val Acc: 0.5487\n"
          ]
        },
        {
          "output_type": "stream",
          "name": "stderr",
          "text": [
            "Fold 1 Epoch 18/150: 100%|██████████| 15/15 [00:02<00:00,  5.27it/s, loss=1.16]\n"
          ]
        },
        {
          "output_type": "stream",
          "name": "stdout",
          "text": [
            "Fold 1 Epoch 18 - Train Loss: 0.9723 | Val Acc: 0.5310\n"
          ]
        },
        {
          "output_type": "stream",
          "name": "stderr",
          "text": [
            "Fold 1 Epoch 19/150: 100%|██████████| 15/15 [00:02<00:00,  5.11it/s, loss=1.43]\n"
          ]
        },
        {
          "output_type": "stream",
          "name": "stdout",
          "text": [
            "Fold 1 Epoch 19 - Train Loss: 0.9774 | Val Acc: 0.5929\n"
          ]
        },
        {
          "output_type": "stream",
          "name": "stderr",
          "text": [
            "Fold 1 Epoch 20/150: 100%|██████████| 15/15 [00:02<00:00,  5.39it/s, loss=0.64]\n"
          ]
        },
        {
          "output_type": "stream",
          "name": "stdout",
          "text": [
            "Fold 1 Epoch 20 - Train Loss: 0.9098 | Val Acc: 0.5575\n"
          ]
        },
        {
          "output_type": "stream",
          "name": "stderr",
          "text": [
            "Fold 1 Epoch 21/150: 100%|██████████| 15/15 [00:02<00:00,  5.41it/s, loss=1.01]\n"
          ]
        },
        {
          "output_type": "stream",
          "name": "stdout",
          "text": [
            "Fold 1 Epoch 21 - Train Loss: 0.8716 | Val Acc: 0.3982\n"
          ]
        },
        {
          "output_type": "stream",
          "name": "stderr",
          "text": [
            "Fold 1 Epoch 22/150: 100%|██████████| 15/15 [00:02<00:00,  5.40it/s, loss=0.933]\n"
          ]
        },
        {
          "output_type": "stream",
          "name": "stdout",
          "text": [
            "Fold 1 Epoch 22 - Train Loss: 0.8850 | Val Acc: 0.5044\n"
          ]
        },
        {
          "output_type": "stream",
          "name": "stderr",
          "text": [
            "Fold 1 Epoch 23/150: 100%|██████████| 15/15 [00:03<00:00,  4.99it/s, loss=1.8]\n"
          ]
        },
        {
          "output_type": "stream",
          "name": "stdout",
          "text": [
            "Fold 1 Epoch 23 - Train Loss: 0.8814 | Val Acc: 0.6372\n"
          ]
        },
        {
          "output_type": "stream",
          "name": "stderr",
          "text": [
            "Fold 1 Epoch 24/150: 100%|██████████| 15/15 [00:03<00:00,  4.73it/s, loss=0.831]\n"
          ]
        },
        {
          "output_type": "stream",
          "name": "stdout",
          "text": [
            "Fold 1 Epoch 24 - Train Loss: 0.7964 | Val Acc: 0.6372\n"
          ]
        },
        {
          "output_type": "stream",
          "name": "stderr",
          "text": [
            "Fold 1 Epoch 25/150: 100%|██████████| 15/15 [00:02<00:00,  5.02it/s, loss=0.914]\n"
          ]
        },
        {
          "output_type": "stream",
          "name": "stdout",
          "text": [
            "Fold 1 Epoch 25 - Train Loss: 0.8173 | Val Acc: 0.6018\n"
          ]
        },
        {
          "output_type": "stream",
          "name": "stderr",
          "text": [
            "Fold 1 Epoch 26/150: 100%|██████████| 15/15 [00:02<00:00,  5.41it/s, loss=0.755]\n"
          ]
        },
        {
          "output_type": "stream",
          "name": "stdout",
          "text": [
            "Fold 1 Epoch 26 - Train Loss: 0.7736 | Val Acc: 0.6637\n"
          ]
        },
        {
          "output_type": "stream",
          "name": "stderr",
          "text": [
            "Fold 1 Epoch 27/150: 100%|██████████| 15/15 [00:02<00:00,  5.11it/s, loss=1.4]\n"
          ]
        },
        {
          "output_type": "stream",
          "name": "stdout",
          "text": [
            "Fold 1 Epoch 27 - Train Loss: 0.7950 | Val Acc: 0.6372\n"
          ]
        },
        {
          "output_type": "stream",
          "name": "stderr",
          "text": [
            "Fold 1 Epoch 28/150: 100%|██████████| 15/15 [00:03<00:00,  4.77it/s, loss=1.32]\n"
          ]
        },
        {
          "output_type": "stream",
          "name": "stdout",
          "text": [
            "Fold 1 Epoch 28 - Train Loss: 0.8034 | Val Acc: 0.6903\n"
          ]
        },
        {
          "output_type": "stream",
          "name": "stderr",
          "text": [
            "Fold 1 Epoch 29/150: 100%|██████████| 15/15 [00:02<00:00,  5.45it/s, loss=0.983]\n"
          ]
        },
        {
          "output_type": "stream",
          "name": "stdout",
          "text": [
            "Fold 1 Epoch 29 - Train Loss: 0.7604 | Val Acc: 0.6903\n"
          ]
        },
        {
          "output_type": "stream",
          "name": "stderr",
          "text": [
            "Fold 1 Epoch 30/150: 100%|██████████| 15/15 [00:02<00:00,  5.42it/s, loss=0.801]\n"
          ]
        },
        {
          "output_type": "stream",
          "name": "stdout",
          "text": [
            "Fold 1 Epoch 30 - Train Loss: 0.7844 | Val Acc: 0.6903\n"
          ]
        },
        {
          "output_type": "stream",
          "name": "stderr",
          "text": [
            "Fold 1 Epoch 31/150: 100%|██████████| 15/15 [00:02<00:00,  5.18it/s, loss=0.595]\n"
          ]
        },
        {
          "output_type": "stream",
          "name": "stdout",
          "text": [
            "Fold 1 Epoch 31 - Train Loss: 0.7574 | Val Acc: 0.6903\n"
          ]
        },
        {
          "output_type": "stream",
          "name": "stderr",
          "text": [
            "Fold 1 Epoch 32/150: 100%|██████████| 15/15 [00:02<00:00,  5.25it/s, loss=0.551]\n"
          ]
        },
        {
          "output_type": "stream",
          "name": "stdout",
          "text": [
            "Fold 1 Epoch 32 - Train Loss: 0.7255 | Val Acc: 0.6814\n"
          ]
        },
        {
          "output_type": "stream",
          "name": "stderr",
          "text": [
            "Fold 1 Epoch 33/150: 100%|██████████| 15/15 [00:02<00:00,  5.41it/s, loss=1.75]\n"
          ]
        },
        {
          "output_type": "stream",
          "name": "stdout",
          "text": [
            "Fold 1 Epoch 33 - Train Loss: 0.8207 | Val Acc: 0.6637\n"
          ]
        },
        {
          "output_type": "stream",
          "name": "stderr",
          "text": [
            "Fold 1 Epoch 34/150: 100%|██████████| 15/15 [00:02<00:00,  5.38it/s, loss=0.763]\n"
          ]
        },
        {
          "output_type": "stream",
          "name": "stdout",
          "text": [
            "Fold 1 Epoch 34 - Train Loss: 0.7628 | Val Acc: 0.6637\n"
          ]
        },
        {
          "output_type": "stream",
          "name": "stderr",
          "text": [
            "Fold 1 Epoch 35/150: 100%|██████████| 15/15 [00:02<00:00,  5.32it/s, loss=0.992]\n"
          ]
        },
        {
          "output_type": "stream",
          "name": "stdout",
          "text": [
            "Fold 1 Epoch 35 - Train Loss: 0.7770 | Val Acc: 0.6549\n"
          ]
        },
        {
          "output_type": "stream",
          "name": "stderr",
          "text": [
            "Fold 1 Epoch 36/150: 100%|██████████| 15/15 [00:02<00:00,  5.04it/s, loss=1.04]\n"
          ]
        },
        {
          "output_type": "stream",
          "name": "stdout",
          "text": [
            "Fold 1 Epoch 36 - Train Loss: 0.7735 | Val Acc: 0.6283\n"
          ]
        },
        {
          "output_type": "stream",
          "name": "stderr",
          "text": [
            "Fold 1 Epoch 37/150: 100%|██████████| 15/15 [00:02<00:00,  5.42it/s, loss=0.885]\n"
          ]
        },
        {
          "output_type": "stream",
          "name": "stdout",
          "text": [
            "Fold 1 Epoch 37 - Train Loss: 0.7489 | Val Acc: 0.6283\n"
          ]
        },
        {
          "output_type": "stream",
          "name": "stderr",
          "text": [
            "Fold 1 Epoch 38/150: 100%|██████████| 15/15 [00:02<00:00,  5.40it/s, loss=2.13]\n"
          ]
        },
        {
          "output_type": "stream",
          "name": "stdout",
          "text": [
            "Fold 1 Epoch 38 - Train Loss: 0.8119 | Val Acc: 0.6637\n"
          ]
        },
        {
          "output_type": "stream",
          "name": "stderr",
          "text": [
            "Fold 1 Epoch 39/150: 100%|██████████| 15/15 [00:02<00:00,  5.43it/s, loss=0.743]\n"
          ]
        },
        {
          "output_type": "stream",
          "name": "stdout",
          "text": [
            "Fold 1 Epoch 39 - Train Loss: 0.7054 | Val Acc: 0.6372\n"
          ]
        },
        {
          "output_type": "stream",
          "name": "stderr",
          "text": [
            "Fold 1 Epoch 40/150: 100%|██████████| 15/15 [00:02<00:00,  5.03it/s, loss=0.961]\n"
          ]
        },
        {
          "output_type": "stream",
          "name": "stdout",
          "text": [
            "Fold 1 Epoch 40 - Train Loss: 0.7477 | Val Acc: 0.5221\n"
          ]
        },
        {
          "output_type": "stream",
          "name": "stderr",
          "text": [
            "Fold 1 Epoch 41/150: 100%|██████████| 15/15 [00:02<00:00,  5.33it/s, loss=0.697]\n"
          ]
        },
        {
          "output_type": "stream",
          "name": "stdout",
          "text": [
            "Fold 1 Epoch 41 - Train Loss: 0.6652 | Val Acc: 0.4956\n"
          ]
        },
        {
          "output_type": "stream",
          "name": "stderr",
          "text": [
            "Fold 1 Epoch 42/150: 100%|██████████| 15/15 [00:02<00:00,  5.38it/s, loss=1.48]\n"
          ]
        },
        {
          "output_type": "stream",
          "name": "stdout",
          "text": [
            "Fold 1 Epoch 42 - Train Loss: 0.7302 | Val Acc: 0.6283\n"
          ]
        },
        {
          "output_type": "stream",
          "name": "stderr",
          "text": [
            "Fold 1 Epoch 43/150: 100%|██████████| 15/15 [00:02<00:00,  5.41it/s, loss=0.532]\n"
          ]
        },
        {
          "output_type": "stream",
          "name": "stdout",
          "text": [
            "Fold 1 Epoch 43 - Train Loss: 0.7133 | Val Acc: 0.5221\n"
          ]
        },
        {
          "output_type": "stream",
          "name": "stderr",
          "text": [
            "Fold 1 Epoch 44/150: 100%|██████████| 15/15 [00:02<00:00,  5.14it/s, loss=1.25]\n"
          ]
        },
        {
          "output_type": "stream",
          "name": "stdout",
          "text": [
            "Fold 1 Epoch 44 - Train Loss: 0.7128 | Val Acc: 0.5221\n"
          ]
        },
        {
          "output_type": "stream",
          "name": "stderr",
          "text": [
            "Fold 1 Epoch 45/150: 100%|██████████| 15/15 [00:02<00:00,  5.16it/s, loss=0.677]\n"
          ]
        },
        {
          "output_type": "stream",
          "name": "stdout",
          "text": [
            "Fold 1 Epoch 45 - Train Loss: 0.6410 | Val Acc: 0.6460\n"
          ]
        },
        {
          "output_type": "stream",
          "name": "stderr",
          "text": [
            "Fold 1 Epoch 46/150: 100%|██████████| 15/15 [00:02<00:00,  5.39it/s, loss=0.773]\n"
          ]
        },
        {
          "output_type": "stream",
          "name": "stdout",
          "text": [
            "Fold 1 Epoch 46 - Train Loss: 0.6331 | Val Acc: 0.6195\n"
          ]
        },
        {
          "output_type": "stream",
          "name": "stderr",
          "text": [
            "Fold 1 Epoch 47/150: 100%|██████████| 15/15 [00:02<00:00,  5.39it/s, loss=0.857]\n"
          ]
        },
        {
          "output_type": "stream",
          "name": "stdout",
          "text": [
            "Fold 1 Epoch 47 - Train Loss: 0.6039 | Val Acc: 0.5752\n"
          ]
        },
        {
          "output_type": "stream",
          "name": "stderr",
          "text": [
            "Fold 1 Epoch 48/150: 100%|██████████| 15/15 [00:02<00:00,  5.29it/s, loss=0.639]\n"
          ]
        },
        {
          "output_type": "stream",
          "name": "stdout",
          "text": [
            "Fold 1 Epoch 48 - Train Loss: 0.5835 | Val Acc: 0.6637\n",
            "Early stopping triggered for fold 1\n",
            "\n",
            "Fold 1 Classification Report:\n",
            "              precision    recall  f1-score   support\n",
            "\n",
            "           0       0.76      0.56      0.64        34\n",
            "           1       0.47      0.53      0.50        34\n",
            "           2       0.76      0.84      0.80        45\n",
            "\n",
            "    accuracy                           0.66       113\n",
            "   macro avg       0.66      0.64      0.65       113\n",
            "weighted avg       0.67      0.66      0.66       113\n",
            "\n"
          ]
        },
        {
          "output_type": "display_data",
          "data": {
            "text/plain": [
              "<Figure size 640x480 with 2 Axes>"
            ],
            "image/png": "[encoded data removed]"
          },
          "metadata": {}
        },
        {
          "output_type": "stream",
          "name": "stdout",
          "text": [
            "\n",
            "Fold 2/5\n"
          ]
        },
        {
          "output_type": "stream",
          "name": "stderr",
          "text": [
            "Fold 2 Epoch 1/150: 100%|██████████| 15/15 [00:02<00:00,  5.11it/s, loss=1.03]\n"
          ]
        },
        {
          "output_type": "stream",
          "name": "stdout",
          "text": [
            "Fold 2 Epoch 1 - Train Loss: 1.0810 | Val Acc: 0.5044\n"
          ]
        },
        {
          "output_type": "stream",
          "name": "stderr",
          "text": [
            "Fold 2 Epoch 2/150: 100%|██████████| 15/15 [00:02<00:00,  5.42it/s, loss=1.06]\n"
          ]
        },
        {
          "output_type": "stream",
          "name": "stdout",
          "text": [
            "Fold 2 Epoch 2 - Train Loss: 1.0687 | Val Acc: 0.4956\n"
          ]
        },
        {
          "output_type": "stream",
          "name": "stderr",
          "text": [
            "Fold 2 Epoch 3/150: 100%|██████████| 15/15 [00:02<00:00,  5.42it/s, loss=1.04]\n"
          ]
        },
        {
          "output_type": "stream",
          "name": "stdout",
          "text": [
            "Fold 2 Epoch 3 - Train Loss: 1.0427 | Val Acc: 0.5044\n"
          ]
        },
        {
          "output_type": "stream",
          "name": "stderr",
          "text": [
            "Fold 2 Epoch 4/150: 100%|██████████| 15/15 [00:02<00:00,  5.37it/s, loss=1.55]\n"
          ]
        },
        {
          "output_type": "stream",
          "name": "stdout",
          "text": [
            "Fold 2 Epoch 4 - Train Loss: 1.0778 | Val Acc: 0.5044\n"
          ]
        },
        {
          "output_type": "stream",
          "name": "stderr",
          "text": [
            "Fold 2 Epoch 5/150: 100%|██████████| 15/15 [00:02<00:00,  5.07it/s, loss=1.07]\n"
          ]
        },
        {
          "output_type": "stream",
          "name": "stdout",
          "text": [
            "Fold 2 Epoch 5 - Train Loss: 1.0556 | Val Acc: 0.5487\n"
          ]
        },
        {
          "output_type": "stream",
          "name": "stderr",
          "text": [
            "Fold 2 Epoch 6/150: 100%|██████████| 15/15 [00:02<00:00,  5.45it/s, loss=1.01]\n"
          ]
        },
        {
          "output_type": "stream",
          "name": "stdout",
          "text": [
            "Fold 2 Epoch 6 - Train Loss: 1.0419 | Val Acc: 0.5398\n"
          ]
        },
        {
          "output_type": "stream",
          "name": "stderr",
          "text": [
            "Fold 2 Epoch 7/150: 100%|██████████| 15/15 [00:02<00:00,  5.41it/s, loss=0.922]\n"
          ]
        },
        {
          "output_type": "stream",
          "name": "stdout",
          "text": [
            "Fold 2 Epoch 7 - Train Loss: 1.0234 | Val Acc: 0.5575\n"
          ]
        },
        {
          "output_type": "stream",
          "name": "stderr",
          "text": [
            "Fold 2 Epoch 8/150: 100%|██████████| 15/15 [00:02<00:00,  5.37it/s, loss=1.04]\n"
          ]
        },
        {
          "output_type": "stream",
          "name": "stdout",
          "text": [
            "Fold 2 Epoch 8 - Train Loss: 1.0458 | Val Acc: 0.5664\n"
          ]
        },
        {
          "output_type": "stream",
          "name": "stderr",
          "text": [
            "Fold 2 Epoch 9/150: 100%|██████████| 15/15 [00:02<00:00,  5.14it/s, loss=0.99]\n"
          ]
        },
        {
          "output_type": "stream",
          "name": "stdout",
          "text": [
            "Fold 2 Epoch 9 - Train Loss: 1.0209 | Val Acc: 0.5487\n"
          ]
        },
        {
          "output_type": "stream",
          "name": "stderr",
          "text": [
            "Fold 2 Epoch 10/150: 100%|██████████| 15/15 [00:02<00:00,  5.30it/s, loss=1.01]\n"
          ]
        },
        {
          "output_type": "stream",
          "name": "stdout",
          "text": [
            "Fold 2 Epoch 10 - Train Loss: 1.0232 | Val Acc: 0.5398\n"
          ]
        },
        {
          "output_type": "stream",
          "name": "stderr",
          "text": [
            "Fold 2 Epoch 11/150: 100%|██████████| 15/15 [00:02<00:00,  5.42it/s, loss=0.833]\n"
          ]
        },
        {
          "output_type": "stream",
          "name": "stdout",
          "text": [
            "Fold 2 Epoch 11 - Train Loss: 1.0146 | Val Acc: 0.5221\n"
          ]
        },
        {
          "output_type": "stream",
          "name": "stderr",
          "text": [
            "Fold 2 Epoch 12/150: 100%|██████████| 15/15 [00:02<00:00,  5.43it/s, loss=1.03]\n"
          ]
        },
        {
          "output_type": "stream",
          "name": "stdout",
          "text": [
            "Fold 2 Epoch 12 - Train Loss: 1.0426 | Val Acc: 0.5310\n"
          ]
        },
        {
          "output_type": "stream",
          "name": "stderr",
          "text": [
            "Fold 2 Epoch 13/150: 100%|██████████| 15/15 [00:02<00:00,  5.32it/s, loss=1.02]\n"
          ]
        },
        {
          "output_type": "stream",
          "name": "stdout",
          "text": [
            "Fold 2 Epoch 13 - Train Loss: 1.0085 | Val Acc: 0.5487\n"
          ]
        },
        {
          "output_type": "stream",
          "name": "stderr",
          "text": [
            "Fold 2 Epoch 14/150: 100%|██████████| 15/15 [00:03<00:00,  4.97it/s, loss=1.06]\n"
          ]
        },
        {
          "output_type": "stream",
          "name": "stdout",
          "text": [
            "Fold 2 Epoch 14 - Train Loss: 1.0255 | Val Acc: 0.6018\n"
          ]
        },
        {
          "output_type": "stream",
          "name": "stderr",
          "text": [
            "Fold 2 Epoch 15/150: 100%|██████████| 15/15 [00:02<00:00,  5.01it/s, loss=1.1]\n"
          ]
        },
        {
          "output_type": "stream",
          "name": "stdout",
          "text": [
            "Fold 2 Epoch 15 - Train Loss: 1.0313 | Val Acc: 0.6195\n"
          ]
        },
        {
          "output_type": "stream",
          "name": "stderr",
          "text": [
            "Fold 2 Epoch 16/150: 100%|██████████| 15/15 [00:02<00:00,  5.42it/s, loss=0.947]\n"
          ]
        },
        {
          "output_type": "stream",
          "name": "stdout",
          "text": [
            "Fold 2 Epoch 16 - Train Loss: 0.9973 | Val Acc: 0.6283\n"
          ]
        },
        {
          "output_type": "stream",
          "name": "stderr",
          "text": [
            "Fold 2 Epoch 17/150: 100%|██████████| 15/15 [00:02<00:00,  5.42it/s, loss=1.19]\n"
          ]
        },
        {
          "output_type": "stream",
          "name": "stdout",
          "text": [
            "Fold 2 Epoch 17 - Train Loss: 0.9955 | Val Acc: 0.5929\n"
          ]
        },
        {
          "output_type": "stream",
          "name": "stderr",
          "text": [
            "Fold 2 Epoch 18/150: 100%|██████████| 15/15 [00:03<00:00,  4.99it/s, loss=0.922]\n"
          ]
        },
        {
          "output_type": "stream",
          "name": "stdout",
          "text": [
            "Fold 2 Epoch 18 - Train Loss: 0.9423 | Val Acc: 0.5310\n"
          ]
        },
        {
          "output_type": "stream",
          "name": "stderr",
          "text": [
            "Fold 2 Epoch 19/150: 100%|██████████| 15/15 [00:02<00:00,  5.41it/s, loss=0.871]\n"
          ]
        },
        {
          "output_type": "stream",
          "name": "stdout",
          "text": [
            "Fold 2 Epoch 19 - Train Loss: 0.9302 | Val Acc: 0.5487\n"
          ]
        },
        {
          "output_type": "stream",
          "name": "stderr",
          "text": [
            "Fold 2 Epoch 20/150: 100%|██████████| 15/15 [00:02<00:00,  5.40it/s, loss=0.964]\n"
          ]
        },
        {
          "output_type": "stream",
          "name": "stdout",
          "text": [
            "Fold 2 Epoch 20 - Train Loss: 0.8953 | Val Acc: 0.6460\n"
          ]
        },
        {
          "output_type": "stream",
          "name": "stderr",
          "text": [
            "Fold 2 Epoch 21/150: 100%|██████████| 15/15 [00:02<00:00,  5.41it/s, loss=0.509]\n"
          ]
        },
        {
          "output_type": "stream",
          "name": "stdout",
          "text": [
            "Fold 2 Epoch 21 - Train Loss: 0.8186 | Val Acc: 0.4867\n"
          ]
        },
        {
          "output_type": "stream",
          "name": "stderr",
          "text": [
            "Fold 2 Epoch 22/150: 100%|██████████| 15/15 [00:02<00:00,  5.09it/s, loss=0.87]\n"
          ]
        },
        {
          "output_type": "stream",
          "name": "stdout",
          "text": [
            "Fold 2 Epoch 22 - Train Loss: 0.8568 | Val Acc: 0.5398\n"
          ]
        },
        {
          "output_type": "stream",
          "name": "stderr",
          "text": [
            "Fold 2 Epoch 23/150: 100%|██████████| 15/15 [00:02<00:00,  5.12it/s, loss=0.89]\n"
          ]
        },
        {
          "output_type": "stream",
          "name": "stdout",
          "text": [
            "Fold 2 Epoch 23 - Train Loss: 0.8176 | Val Acc: 0.5575\n"
          ]
        },
        {
          "output_type": "stream",
          "name": "stderr",
          "text": [
            "Fold 2 Epoch 24/150: 100%|██████████| 15/15 [00:02<00:00,  5.16it/s, loss=0.656]\n"
          ]
        },
        {
          "output_type": "stream",
          "name": "stdout",
          "text": [
            "Fold 2 Epoch 24 - Train Loss: 0.7446 | Val Acc: 0.4779\n"
          ]
        },
        {
          "output_type": "stream",
          "name": "stderr",
          "text": [
            "Fold 2 Epoch 25/150: 100%|██████████| 15/15 [00:02<00:00,  5.42it/s, loss=1.35]\n"
          ]
        },
        {
          "output_type": "stream",
          "name": "stdout",
          "text": [
            "Fold 2 Epoch 25 - Train Loss: 0.8252 | Val Acc: 0.6460\n"
          ]
        },
        {
          "output_type": "stream",
          "name": "stderr",
          "text": [
            "Fold 2 Epoch 26/150: 100%|██████████| 15/15 [00:02<00:00,  5.25it/s, loss=0.624]\n"
          ]
        },
        {
          "output_type": "stream",
          "name": "stdout",
          "text": [
            "Fold 2 Epoch 26 - Train Loss: 0.7411 | Val Acc: 0.6726\n"
          ]
        },
        {
          "output_type": "stream",
          "name": "stderr",
          "text": [
            "Fold 2 Epoch 27/150: 100%|██████████| 15/15 [00:02<00:00,  5.22it/s, loss=1.05]\n"
          ]
        },
        {
          "output_type": "stream",
          "name": "stdout",
          "text": [
            "Fold 2 Epoch 27 - Train Loss: 0.7901 | Val Acc: 0.6549\n"
          ]
        },
        {
          "output_type": "stream",
          "name": "stderr",
          "text": [
            "Fold 2 Epoch 28/150: 100%|██████████| 15/15 [00:02<00:00,  5.42it/s, loss=1.41]\n"
          ]
        },
        {
          "output_type": "stream",
          "name": "stdout",
          "text": [
            "Fold 2 Epoch 28 - Train Loss: 0.7803 | Val Acc: 0.5752\n"
          ]
        },
        {
          "output_type": "stream",
          "name": "stderr",
          "text": [
            "Fold 2 Epoch 29/150: 100%|██████████| 15/15 [00:02<00:00,  5.41it/s, loss=0.623]\n"
          ]
        },
        {
          "output_type": "stream",
          "name": "stdout",
          "text": [
            "Fold 2 Epoch 29 - Train Loss: 0.7327 | Val Acc: 0.6549\n"
          ]
        },
        {
          "output_type": "stream",
          "name": "stderr",
          "text": [
            "Fold 2 Epoch 30/150: 100%|██████████| 15/15 [00:02<00:00,  5.41it/s, loss=0.81]\n"
          ]
        },
        {
          "output_type": "stream",
          "name": "stdout",
          "text": [
            "Fold 2 Epoch 30 - Train Loss: 0.7106 | Val Acc: 0.6549\n"
          ]
        },
        {
          "output_type": "stream",
          "name": "stderr",
          "text": [
            "Fold 2 Epoch 31/150: 100%|██████████| 15/15 [00:03<00:00,  5.00it/s, loss=0.795]\n"
          ]
        },
        {
          "output_type": "stream",
          "name": "stdout",
          "text": [
            "Fold 2 Epoch 31 - Train Loss: 0.7248 | Val Acc: 0.6549\n"
          ]
        },
        {
          "output_type": "stream",
          "name": "stderr",
          "text": [
            "Fold 2 Epoch 32/150: 100%|██████████| 15/15 [00:02<00:00,  5.42it/s, loss=0.575]\n"
          ]
        },
        {
          "output_type": "stream",
          "name": "stdout",
          "text": [
            "Fold 2 Epoch 32 - Train Loss: 0.7269 | Val Acc: 0.6549\n"
          ]
        },
        {
          "output_type": "stream",
          "name": "stderr",
          "text": [
            "Fold 2 Epoch 33/150: 100%|██████████| 15/15 [00:02<00:00,  5.42it/s, loss=0.908]\n"
          ]
        },
        {
          "output_type": "stream",
          "name": "stdout",
          "text": [
            "Fold 2 Epoch 33 - Train Loss: 0.7325 | Val Acc: 0.6903\n"
          ]
        },
        {
          "output_type": "stream",
          "name": "stderr",
          "text": [
            "Fold 2 Epoch 34/150: 100%|██████████| 15/15 [00:02<00:00,  5.41it/s, loss=1.15]\n"
          ]
        },
        {
          "output_type": "stream",
          "name": "stdout",
          "text": [
            "Fold 2 Epoch 34 - Train Loss: 0.7672 | Val Acc: 0.6283\n"
          ]
        },
        {
          "output_type": "stream",
          "name": "stderr",
          "text": [
            "Fold 2 Epoch 35/150: 100%|██████████| 15/15 [00:02<00:00,  5.16it/s, loss=0.929]\n"
          ]
        },
        {
          "output_type": "stream",
          "name": "stdout",
          "text": [
            "Fold 2 Epoch 35 - Train Loss: 0.7608 | Val Acc: 0.6549\n"
          ]
        },
        {
          "output_type": "stream",
          "name": "stderr",
          "text": [
            "Fold 2 Epoch 36/150: 100%|██████████| 15/15 [00:02<00:00,  5.28it/s, loss=0.849]\n"
          ]
        },
        {
          "output_type": "stream",
          "name": "stdout",
          "text": [
            "Fold 2 Epoch 36 - Train Loss: 0.7059 | Val Acc: 0.5221\n"
          ]
        },
        {
          "output_type": "stream",
          "name": "stderr",
          "text": [
            "Fold 2 Epoch 37/150: 100%|██████████| 15/15 [00:02<00:00,  5.41it/s, loss=1.04]\n"
          ]
        },
        {
          "output_type": "stream",
          "name": "stdout",
          "text": [
            "Fold 2 Epoch 37 - Train Loss: 0.7256 | Val Acc: 0.6018\n"
          ]
        },
        {
          "output_type": "stream",
          "name": "stderr",
          "text": [
            "Fold 2 Epoch 38/150: 100%|██████████| 15/15 [00:02<00:00,  5.42it/s, loss=1.19]\n"
          ]
        },
        {
          "output_type": "stream",
          "name": "stdout",
          "text": [
            "Fold 2 Epoch 38 - Train Loss: 0.7165 | Val Acc: 0.6195\n"
          ]
        },
        {
          "output_type": "stream",
          "name": "stderr",
          "text": [
            "Fold 2 Epoch 39/150: 100%|██████████| 15/15 [00:02<00:00,  5.33it/s, loss=0.587]\n"
          ]
        },
        {
          "output_type": "stream",
          "name": "stdout",
          "text": [
            "Fold 2 Epoch 39 - Train Loss: 0.6885 | Val Acc: 0.6814\n"
          ]
        },
        {
          "output_type": "stream",
          "name": "stderr",
          "text": [
            "Fold 2 Epoch 40/150: 100%|██████████| 15/15 [00:02<00:00,  5.08it/s, loss=1.08]\n"
          ]
        },
        {
          "output_type": "stream",
          "name": "stdout",
          "text": [
            "Fold 2 Epoch 40 - Train Loss: 0.6870 | Val Acc: 0.6460\n"
          ]
        },
        {
          "output_type": "stream",
          "name": "stderr",
          "text": [
            "Fold 2 Epoch 41/150: 100%|██████████| 15/15 [00:02<00:00,  5.39it/s, loss=1.32]\n"
          ]
        },
        {
          "output_type": "stream",
          "name": "stdout",
          "text": [
            "Fold 2 Epoch 41 - Train Loss: 0.7911 | Val Acc: 0.3274\n"
          ]
        },
        {
          "output_type": "stream",
          "name": "stderr",
          "text": [
            "Fold 2 Epoch 42/150: 100%|██████████| 15/15 [00:02<00:00,  5.41it/s, loss=0.834]\n"
          ]
        },
        {
          "output_type": "stream",
          "name": "stdout",
          "text": [
            "Fold 2 Epoch 42 - Train Loss: 0.6721 | Val Acc: 0.5487\n"
          ]
        },
        {
          "output_type": "stream",
          "name": "stderr",
          "text": [
            "Fold 2 Epoch 43/150: 100%|██████████| 15/15 [00:02<00:00,  5.44it/s, loss=0.646]\n"
          ]
        },
        {
          "output_type": "stream",
          "name": "stdout",
          "text": [
            "Fold 2 Epoch 43 - Train Loss: 0.6631 | Val Acc: 0.6106\n"
          ]
        },
        {
          "output_type": "stream",
          "name": "stderr",
          "text": [
            "Fold 2 Epoch 44/150: 100%|██████████| 15/15 [00:02<00:00,  5.05it/s, loss=1.48]\n"
          ]
        },
        {
          "output_type": "stream",
          "name": "stdout",
          "text": [
            "Fold 2 Epoch 44 - Train Loss: 0.7479 | Val Acc: 0.6460\n"
          ]
        },
        {
          "output_type": "stream",
          "name": "stderr",
          "text": [
            "Fold 2 Epoch 45/150: 100%|██████████| 15/15 [00:02<00:00,  5.41it/s, loss=0.703]\n"
          ]
        },
        {
          "output_type": "stream",
          "name": "stdout",
          "text": [
            "Fold 2 Epoch 45 - Train Loss: 0.6535 | Val Acc: 0.6372\n"
          ]
        },
        {
          "output_type": "stream",
          "name": "stderr",
          "text": [
            "Fold 2 Epoch 46/150: 100%|██████████| 15/15 [00:02<00:00,  5.44it/s, loss=1.16]\n"
          ]
        },
        {
          "output_type": "stream",
          "name": "stdout",
          "text": [
            "Fold 2 Epoch 46 - Train Loss: 0.6352 | Val Acc: 0.6637\n"
          ]
        },
        {
          "output_type": "stream",
          "name": "stderr",
          "text": [
            "Fold 2 Epoch 47/150: 100%|██████████| 15/15 [00:02<00:00,  5.34it/s, loss=0.73]\n"
          ]
        },
        {
          "output_type": "stream",
          "name": "stdout",
          "text": [
            "Fold 2 Epoch 47 - Train Loss: 0.6087 | Val Acc: 0.6549\n"
          ]
        },
        {
          "output_type": "stream",
          "name": "stderr",
          "text": [
            "Fold 2 Epoch 48/150: 100%|██████████| 15/15 [00:02<00:00,  5.23it/s, loss=1.21]\n"
          ]
        },
        {
          "output_type": "stream",
          "name": "stdout",
          "text": [
            "Fold 2 Epoch 48 - Train Loss: 0.6639 | Val Acc: 0.6726\n"
          ]
        },
        {
          "output_type": "stream",
          "name": "stderr",
          "text": [
            "Fold 2 Epoch 49/150: 100%|██████████| 15/15 [00:02<00:00,  5.19it/s, loss=1.52]\n"
          ]
        },
        {
          "output_type": "stream",
          "name": "stdout",
          "text": [
            "Fold 2 Epoch 49 - Train Loss: 0.6534 | Val Acc: 0.6106\n"
          ]
        },
        {
          "output_type": "stream",
          "name": "stderr",
          "text": [
            "Fold 2 Epoch 50/150: 100%|██████████| 15/15 [00:02<00:00,  5.38it/s, loss=0.479]\n"
          ]
        },
        {
          "output_type": "stream",
          "name": "stdout",
          "text": [
            "Fold 2 Epoch 50 - Train Loss: 0.5643 | Val Acc: 0.6283\n"
          ]
        },
        {
          "output_type": "stream",
          "name": "stderr",
          "text": [
            "Fold 2 Epoch 51/150: 100%|██████████| 15/15 [00:02<00:00,  5.41it/s, loss=0.42]\n"
          ]
        },
        {
          "output_type": "stream",
          "name": "stdout",
          "text": [
            "Fold 2 Epoch 51 - Train Loss: 0.5946 | Val Acc: 0.6283\n"
          ]
        },
        {
          "output_type": "stream",
          "name": "stderr",
          "text": [
            "Fold 2 Epoch 52/150: 100%|██████████| 15/15 [00:02<00:00,  5.31it/s, loss=0.585]\n"
          ]
        },
        {
          "output_type": "stream",
          "name": "stdout",
          "text": [
            "Fold 2 Epoch 52 - Train Loss: 0.5778 | Val Acc: 0.6372\n"
          ]
        },
        {
          "output_type": "stream",
          "name": "stderr",
          "text": [
            "Fold 2 Epoch 53/150: 100%|██████████| 15/15 [00:02<00:00,  5.05it/s, loss=0.816]\n"
          ]
        },
        {
          "output_type": "stream",
          "name": "stdout",
          "text": [
            "Fold 2 Epoch 53 - Train Loss: 0.5899 | Val Acc: 0.6549\n",
            "Early stopping triggered for fold 2\n",
            "\n",
            "Fold 2 Classification Report:\n",
            "              precision    recall  f1-score   support\n",
            "\n",
            "           0       0.56      0.89      0.69        35\n",
            "           1       0.61      0.28      0.38        40\n",
            "           2       0.80      0.84      0.82        38\n",
            "\n",
            "    accuracy                           0.65       113\n",
            "   macro avg       0.66      0.67      0.63       113\n",
            "weighted avg       0.66      0.65      0.62       113\n",
            "\n"
          ]
        },
        {
          "output_type": "display_data",
          "data": {
            "text/plain": [
              "<Figure size 640x480 with 2 Axes>"
            ],
            "image/png": "[encoded data removed]"
          },
          "metadata": {}
        },
        {
          "output_type": "stream",
          "name": "stdout",
          "text": [
            "\n",
            "Fold 3/5\n"
          ]
        },
        {
          "output_type": "stream",
          "name": "stderr",
          "text": [
            "Fold 3 Epoch 1/150: 100%|██████████| 15/15 [00:02<00:00,  5.37it/s, loss=1.05]\n"
          ]
        },
        {
          "output_type": "stream",
          "name": "stdout",
          "text": [
            "Fold 3 Epoch 1 - Train Loss: 1.0834 | Val Acc: 0.4513\n"
          ]
        },
        {
          "output_type": "stream",
          "name": "stderr",
          "text": [
            "Fold 3 Epoch 2/150: 100%|██████████| 15/15 [00:02<00:00,  5.39it/s, loss=1.07]\n"
          ]
        },
        {
          "output_type": "stream",
          "name": "stdout",
          "text": [
            "Fold 3 Epoch 2 - Train Loss: 1.0794 | Val Acc: 0.4336\n"
          ]
        },
        {
          "output_type": "stream",
          "name": "stderr",
          "text": [
            "Fold 3 Epoch 3/150: 100%|██████████| 15/15 [00:02<00:00,  5.40it/s, loss=1.25]\n"
          ]
        },
        {
          "output_type": "stream",
          "name": "stdout",
          "text": [
            "Fold 3 Epoch 3 - Train Loss: 1.0854 | Val Acc: 0.4425\n"
          ]
        },
        {
          "output_type": "stream",
          "name": "stderr",
          "text": [
            "Fold 3 Epoch 4/150: 100%|██████████| 15/15 [00:02<00:00,  5.01it/s, loss=1.09]\n"
          ]
        },
        {
          "output_type": "stream",
          "name": "stdout",
          "text": [
            "Fold 3 Epoch 4 - Train Loss: 1.0643 | Val Acc: 0.5133\n"
          ]
        },
        {
          "output_type": "stream",
          "name": "stderr",
          "text": [
            "Fold 3 Epoch 5/150: 100%|██████████| 15/15 [00:02<00:00,  5.39it/s, loss=1.06]\n"
          ]
        },
        {
          "output_type": "stream",
          "name": "stdout",
          "text": [
            "Fold 3 Epoch 5 - Train Loss: 1.0390 | Val Acc: 0.4867\n"
          ]
        },
        {
          "output_type": "stream",
          "name": "stderr",
          "text": [
            "Fold 3 Epoch 6/150: 100%|██████████| 15/15 [00:02<00:00,  5.39it/s, loss=1.01]\n"
          ]
        },
        {
          "output_type": "stream",
          "name": "stdout",
          "text": [
            "Fold 3 Epoch 6 - Train Loss: 1.0401 | Val Acc: 0.4867\n"
          ]
        },
        {
          "output_type": "stream",
          "name": "stderr",
          "text": [
            "Fold 3 Epoch 7/150: 100%|██████████| 15/15 [00:02<00:00,  5.38it/s, loss=0.952]\n"
          ]
        },
        {
          "output_type": "stream",
          "name": "stdout",
          "text": [
            "Fold 3 Epoch 7 - Train Loss: 1.0314 | Val Acc: 0.4690\n"
          ]
        },
        {
          "output_type": "stream",
          "name": "stderr",
          "text": [
            "Fold 3 Epoch 8/150: 100%|██████████| 15/15 [00:02<00:00,  5.20it/s, loss=1.13]\n"
          ]
        },
        {
          "output_type": "stream",
          "name": "stdout",
          "text": [
            "Fold 3 Epoch 8 - Train Loss: 1.0461 | Val Acc: 0.4248\n"
          ]
        },
        {
          "output_type": "stream",
          "name": "stderr",
          "text": [
            "Fold 3 Epoch 9/150: 100%|██████████| 15/15 [00:02<00:00,  5.23it/s, loss=1.09]\n"
          ]
        },
        {
          "output_type": "stream",
          "name": "stdout",
          "text": [
            "Fold 3 Epoch 9 - Train Loss: 1.0205 | Val Acc: 0.4956\n"
          ]
        },
        {
          "output_type": "stream",
          "name": "stderr",
          "text": [
            "Fold 3 Epoch 10/150: 100%|██████████| 15/15 [00:02<00:00,  5.42it/s, loss=1.12]\n"
          ]
        },
        {
          "output_type": "stream",
          "name": "stdout",
          "text": [
            "Fold 3 Epoch 10 - Train Loss: 1.0305 | Val Acc: 0.4956\n"
          ]
        },
        {
          "output_type": "stream",
          "name": "stderr",
          "text": [
            "Fold 3 Epoch 11/150: 100%|██████████| 15/15 [00:02<00:00,  5.40it/s, loss=0.984]\n"
          ]
        },
        {
          "output_type": "stream",
          "name": "stdout",
          "text": [
            "Fold 3 Epoch 11 - Train Loss: 1.0260 | Val Acc: 0.4867\n"
          ]
        },
        {
          "output_type": "stream",
          "name": "stderr",
          "text": [
            "Fold 3 Epoch 12/150: 100%|██████████| 15/15 [00:02<00:00,  5.29it/s, loss=0.977]\n"
          ]
        },
        {
          "output_type": "stream",
          "name": "stdout",
          "text": [
            "Fold 3 Epoch 12 - Train Loss: 1.0140 | Val Acc: 0.4956\n"
          ]
        },
        {
          "output_type": "stream",
          "name": "stderr",
          "text": [
            "Fold 3 Epoch 13/150: 100%|██████████| 15/15 [00:02<00:00,  5.04it/s, loss=0.917]\n"
          ]
        },
        {
          "output_type": "stream",
          "name": "stdout",
          "text": [
            "Fold 3 Epoch 13 - Train Loss: 1.0089 | Val Acc: 0.5221\n"
          ]
        },
        {
          "output_type": "stream",
          "name": "stderr",
          "text": [
            "Fold 3 Epoch 14/150: 100%|██████████| 15/15 [00:02<00:00,  5.37it/s, loss=0.953]\n"
          ]
        },
        {
          "output_type": "stream",
          "name": "stdout",
          "text": [
            "Fold 3 Epoch 14 - Train Loss: 1.0078 | Val Acc: 0.4248\n"
          ]
        },
        {
          "output_type": "stream",
          "name": "stderr",
          "text": [
            "Fold 3 Epoch 15/150: 100%|██████████| 15/15 [00:02<00:00,  5.39it/s, loss=0.895]\n"
          ]
        },
        {
          "output_type": "stream",
          "name": "stdout",
          "text": [
            "Fold 3 Epoch 15 - Train Loss: 1.0010 | Val Acc: 0.5487\n"
          ]
        },
        {
          "output_type": "stream",
          "name": "stderr",
          "text": [
            "Fold 3 Epoch 16/150: 100%|██████████| 15/15 [00:02<00:00,  5.38it/s, loss=0.733]\n"
          ]
        },
        {
          "output_type": "stream",
          "name": "stdout",
          "text": [
            "Fold 3 Epoch 16 - Train Loss: 0.9762 | Val Acc: 0.5752\n"
          ]
        },
        {
          "output_type": "stream",
          "name": "stderr",
          "text": [
            "Fold 3 Epoch 17/150: 100%|██████████| 15/15 [00:03<00:00,  4.90it/s, loss=0.909]\n"
          ]
        },
        {
          "output_type": "stream",
          "name": "stdout",
          "text": [
            "Fold 3 Epoch 17 - Train Loss: 0.9604 | Val Acc: 0.5044\n"
          ]
        },
        {
          "output_type": "stream",
          "name": "stderr",
          "text": [
            "Fold 3 Epoch 18/150: 100%|██████████| 15/15 [00:02<00:00,  5.40it/s, loss=0.896]\n"
          ]
        },
        {
          "output_type": "stream",
          "name": "stdout",
          "text": [
            "Fold 3 Epoch 18 - Train Loss: 0.9528 | Val Acc: 0.4336\n"
          ]
        },
        {
          "output_type": "stream",
          "name": "stderr",
          "text": [
            "Fold 3 Epoch 19/150: 100%|██████████| 15/15 [00:02<00:00,  5.40it/s, loss=0.844]\n"
          ]
        },
        {
          "output_type": "stream",
          "name": "stdout",
          "text": [
            "Fold 3 Epoch 19 - Train Loss: 0.9049 | Val Acc: 0.5664\n"
          ]
        },
        {
          "output_type": "stream",
          "name": "stderr",
          "text": [
            "Fold 3 Epoch 20/150: 100%|██████████| 15/15 [00:02<00:00,  5.38it/s, loss=1.16]\n"
          ]
        },
        {
          "output_type": "stream",
          "name": "stdout",
          "text": [
            "Fold 3 Epoch 20 - Train Loss: 0.9058 | Val Acc: 0.5133\n"
          ]
        },
        {
          "output_type": "stream",
          "name": "stderr",
          "text": [
            "Fold 3 Epoch 21/150: 100%|██████████| 15/15 [00:02<00:00,  5.15it/s, loss=0.681]\n"
          ]
        },
        {
          "output_type": "stream",
          "name": "stdout",
          "text": [
            "Fold 3 Epoch 21 - Train Loss: 0.8519 | Val Acc: 0.6018\n"
          ]
        },
        {
          "output_type": "stream",
          "name": "stderr",
          "text": [
            "Fold 3 Epoch 22/150: 100%|██████████| 15/15 [00:02<00:00,  5.22it/s, loss=0.996]\n"
          ]
        },
        {
          "output_type": "stream",
          "name": "stdout",
          "text": [
            "Fold 3 Epoch 22 - Train Loss: 0.8365 | Val Acc: 0.5841\n"
          ]
        },
        {
          "output_type": "stream",
          "name": "stderr",
          "text": [
            "Fold 3 Epoch 23/150: 100%|██████████| 15/15 [00:02<00:00,  5.41it/s, loss=1.59]\n"
          ]
        },
        {
          "output_type": "stream",
          "name": "stdout",
          "text": [
            "Fold 3 Epoch 23 - Train Loss: 0.8369 | Val Acc: 0.5929\n"
          ]
        },
        {
          "output_type": "stream",
          "name": "stderr",
          "text": [
            "Fold 3 Epoch 24/150: 100%|██████████| 15/15 [00:02<00:00,  5.41it/s, loss=0.732]\n"
          ]
        },
        {
          "output_type": "stream",
          "name": "stdout",
          "text": [
            "Fold 3 Epoch 24 - Train Loss: 0.8272 | Val Acc: 0.6106\n"
          ]
        },
        {
          "output_type": "stream",
          "name": "stderr",
          "text": [
            "Fold 3 Epoch 25/150: 100%|██████████| 15/15 [00:02<00:00,  5.26it/s, loss=0.973]\n"
          ]
        },
        {
          "output_type": "stream",
          "name": "stdout",
          "text": [
            "Fold 3 Epoch 25 - Train Loss: 0.7762 | Val Acc: 0.6726\n"
          ]
        },
        {
          "output_type": "stream",
          "name": "stderr",
          "text": [
            "Fold 3 Epoch 26/150: 100%|██████████| 15/15 [00:02<00:00,  5.07it/s, loss=0.627]\n"
          ]
        },
        {
          "output_type": "stream",
          "name": "stdout",
          "text": [
            "Fold 3 Epoch 26 - Train Loss: 0.6936 | Val Acc: 0.6195\n"
          ]
        },
        {
          "output_type": "stream",
          "name": "stderr",
          "text": [
            "Fold 3 Epoch 27/150: 100%|██████████| 15/15 [00:02<00:00,  5.39it/s, loss=1.06]\n"
          ]
        },
        {
          "output_type": "stream",
          "name": "stdout",
          "text": [
            "Fold 3 Epoch 27 - Train Loss: 0.7492 | Val Acc: 0.5487\n"
          ]
        },
        {
          "output_type": "stream",
          "name": "stderr",
          "text": [
            "Fold 3 Epoch 28/150: 100%|██████████| 15/15 [00:02<00:00,  5.38it/s, loss=0.612]\n"
          ]
        },
        {
          "output_type": "stream",
          "name": "stdout",
          "text": [
            "Fold 3 Epoch 28 - Train Loss: 0.7457 | Val Acc: 0.6726\n"
          ]
        },
        {
          "output_type": "stream",
          "name": "stderr",
          "text": [
            "Fold 3 Epoch 29/150: 100%|██████████| 15/15 [00:02<00:00,  5.41it/s, loss=0.605]\n"
          ]
        },
        {
          "output_type": "stream",
          "name": "stdout",
          "text": [
            "Fold 3 Epoch 29 - Train Loss: 0.7207 | Val Acc: 0.7168\n"
          ]
        },
        {
          "output_type": "stream",
          "name": "stderr",
          "text": [
            "Fold 3 Epoch 30/150: 100%|██████████| 15/15 [00:03<00:00,  4.98it/s, loss=0.554]\n"
          ]
        },
        {
          "output_type": "stream",
          "name": "stdout",
          "text": [
            "Fold 3 Epoch 30 - Train Loss: 0.6930 | Val Acc: 0.7168\n"
          ]
        },
        {
          "output_type": "stream",
          "name": "stderr",
          "text": [
            "Fold 3 Epoch 31/150: 100%|██████████| 15/15 [00:02<00:00,  5.35it/s, loss=0.702]\n"
          ]
        },
        {
          "output_type": "stream",
          "name": "stdout",
          "text": [
            "Fold 3 Epoch 31 - Train Loss: 0.6890 | Val Acc: 0.7080\n"
          ]
        },
        {
          "output_type": "stream",
          "name": "stderr",
          "text": [
            "Fold 3 Epoch 32/150: 100%|██████████| 15/15 [00:02<00:00,  5.39it/s, loss=0.781]\n"
          ]
        },
        {
          "output_type": "stream",
          "name": "stdout",
          "text": [
            "Fold 3 Epoch 32 - Train Loss: 0.7026 | Val Acc: 0.7168\n"
          ]
        },
        {
          "output_type": "stream",
          "name": "stderr",
          "text": [
            "Fold 3 Epoch 33/150: 100%|██████████| 15/15 [00:02<00:00,  5.38it/s, loss=0.714]\n"
          ]
        },
        {
          "output_type": "stream",
          "name": "stdout",
          "text": [
            "Fold 3 Epoch 33 - Train Loss: 0.7162 | Val Acc: 0.6726\n"
          ]
        },
        {
          "output_type": "stream",
          "name": "stderr",
          "text": [
            "Fold 3 Epoch 34/150: 100%|██████████| 15/15 [00:02<00:00,  5.07it/s, loss=1.27]\n"
          ]
        },
        {
          "output_type": "stream",
          "name": "stdout",
          "text": [
            "Fold 3 Epoch 34 - Train Loss: 0.7560 | Val Acc: 0.6991\n"
          ]
        },
        {
          "output_type": "stream",
          "name": "stderr",
          "text": [
            "Fold 3 Epoch 35/150: 100%|██████████| 15/15 [00:02<00:00,  5.19it/s, loss=1.17]\n"
          ]
        },
        {
          "output_type": "stream",
          "name": "stdout",
          "text": [
            "Fold 3 Epoch 35 - Train Loss: 0.7188 | Val Acc: 0.6903\n"
          ]
        },
        {
          "output_type": "stream",
          "name": "stderr",
          "text": [
            "Fold 3 Epoch 36/150: 100%|██████████| 15/15 [00:02<00:00,  5.40it/s, loss=0.633]\n"
          ]
        },
        {
          "output_type": "stream",
          "name": "stdout",
          "text": [
            "Fold 3 Epoch 36 - Train Loss: 0.7114 | Val Acc: 0.5752\n"
          ]
        },
        {
          "output_type": "stream",
          "name": "stderr",
          "text": [
            "Fold 3 Epoch 37/150: 100%|██████████| 15/15 [00:02<00:00,  5.41it/s, loss=1.58]\n"
          ]
        },
        {
          "output_type": "stream",
          "name": "stdout",
          "text": [
            "Fold 3 Epoch 37 - Train Loss: 0.7671 | Val Acc: 0.6460\n"
          ]
        },
        {
          "output_type": "stream",
          "name": "stderr",
          "text": [
            "Fold 3 Epoch 38/150: 100%|██████████| 15/15 [00:02<00:00,  5.31it/s, loss=1.05]\n"
          ]
        },
        {
          "output_type": "stream",
          "name": "stdout",
          "text": [
            "Fold 3 Epoch 38 - Train Loss: 0.7766 | Val Acc: 0.4071\n"
          ]
        },
        {
          "output_type": "stream",
          "name": "stderr",
          "text": [
            "Fold 3 Epoch 39/150: 100%|██████████| 15/15 [00:02<00:00,  5.03it/s, loss=1.28]\n"
          ]
        },
        {
          "output_type": "stream",
          "name": "stdout",
          "text": [
            "Fold 3 Epoch 39 - Train Loss: 0.7940 | Val Acc: 0.6460\n"
          ]
        },
        {
          "output_type": "stream",
          "name": "stderr",
          "text": [
            "Fold 3 Epoch 40/150: 100%|██████████| 15/15 [00:02<00:00,  5.41it/s, loss=1.24]\n"
          ]
        },
        {
          "output_type": "stream",
          "name": "stdout",
          "text": [
            "Fold 3 Epoch 40 - Train Loss: 0.7794 | Val Acc: 0.5841\n"
          ]
        },
        {
          "output_type": "stream",
          "name": "stderr",
          "text": [
            "Fold 3 Epoch 41/150: 100%|██████████| 15/15 [00:02<00:00,  5.40it/s, loss=0.866]\n"
          ]
        },
        {
          "output_type": "stream",
          "name": "stdout",
          "text": [
            "Fold 3 Epoch 41 - Train Loss: 0.6983 | Val Acc: 0.5664\n"
          ]
        },
        {
          "output_type": "stream",
          "name": "stderr",
          "text": [
            "Fold 3 Epoch 42/150: 100%|██████████| 15/15 [00:02<00:00,  5.35it/s, loss=0.835]\n"
          ]
        },
        {
          "output_type": "stream",
          "name": "stdout",
          "text": [
            "Fold 3 Epoch 42 - Train Loss: 0.7084 | Val Acc: 0.4159\n"
          ]
        },
        {
          "output_type": "stream",
          "name": "stderr",
          "text": [
            "Fold 3 Epoch 43/150: 100%|██████████| 15/15 [00:02<00:00,  5.06it/s, loss=0.608]\n"
          ]
        },
        {
          "output_type": "stream",
          "name": "stdout",
          "text": [
            "Fold 3 Epoch 43 - Train Loss: 0.7000 | Val Acc: 0.5664\n"
          ]
        },
        {
          "output_type": "stream",
          "name": "stderr",
          "text": [
            "Fold 3 Epoch 44/150: 100%|██████████| 15/15 [00:02<00:00,  5.35it/s, loss=0.776]\n"
          ]
        },
        {
          "output_type": "stream",
          "name": "stdout",
          "text": [
            "Fold 3 Epoch 44 - Train Loss: 0.6742 | Val Acc: 0.6726\n"
          ]
        },
        {
          "output_type": "stream",
          "name": "stderr",
          "text": [
            "Fold 3 Epoch 45/150: 100%|██████████| 15/15 [00:02<00:00,  5.20it/s, loss=1.28]\n"
          ]
        },
        {
          "output_type": "stream",
          "name": "stdout",
          "text": [
            "Fold 3 Epoch 45 - Train Loss: 0.7321 | Val Acc: 0.5044\n"
          ]
        },
        {
          "output_type": "stream",
          "name": "stderr",
          "text": [
            "Fold 3 Epoch 46/150: 100%|██████████| 15/15 [00:02<00:00,  5.10it/s, loss=0.667]\n"
          ]
        },
        {
          "output_type": "stream",
          "name": "stdout",
          "text": [
            "Fold 3 Epoch 46 - Train Loss: 0.6519 | Val Acc: 0.5752\n"
          ]
        },
        {
          "output_type": "stream",
          "name": "stderr",
          "text": [
            "Fold 3 Epoch 47/150: 100%|██████████| 15/15 [00:02<00:00,  5.18it/s, loss=2.24]\n"
          ]
        },
        {
          "output_type": "stream",
          "name": "stdout",
          "text": [
            "Fold 3 Epoch 47 - Train Loss: 0.7241 | Val Acc: 0.6549\n"
          ]
        },
        {
          "output_type": "stream",
          "name": "stderr",
          "text": [
            "Fold 3 Epoch 48/150: 100%|██████████| 15/15 [00:02<00:00,  5.23it/s, loss=0.761]\n"
          ]
        },
        {
          "output_type": "stream",
          "name": "stdout",
          "text": [
            "Fold 3 Epoch 48 - Train Loss: 0.6323 | Val Acc: 0.6549\n"
          ]
        },
        {
          "output_type": "stream",
          "name": "stderr",
          "text": [
            "Fold 3 Epoch 49/150: 100%|██████████| 15/15 [00:02<00:00,  5.41it/s, loss=0.621]\n"
          ]
        },
        {
          "output_type": "stream",
          "name": "stdout",
          "text": [
            "Fold 3 Epoch 49 - Train Loss: 0.6206 | Val Acc: 0.6460\n",
            "Early stopping triggered for fold 3\n",
            "\n",
            "Fold 3 Classification Report:\n",
            "              precision    recall  f1-score   support\n",
            "\n",
            "           0       0.63      0.78      0.70        40\n",
            "           1       0.69      0.41      0.51        44\n",
            "           2       0.63      0.83      0.72        29\n",
            "\n",
            "    accuracy                           0.65       113\n",
            "   macro avg       0.65      0.67      0.64       113\n",
            "weighted avg       0.66      0.65      0.63       113\n",
            "\n"
          ]
        },
        {
          "output_type": "display_data",
          "data": {
            "text/plain": [
              "<Figure size 640x480 with 2 Axes>"
            ],
            "image/png": "[encoded data removed]"
          },
          "metadata": {}
        },
        {
          "output_type": "stream",
          "name": "stdout",
          "text": [
            "\n",
            "Fold 4/5\n"
          ]
        },
        {
          "output_type": "stream",
          "name": "stderr",
          "text": [
            "Fold 4 Epoch 1/150: 100%|██████████| 15/15 [00:02<00:00,  5.36it/s, loss=1.34]\n"
          ]
        },
        {
          "output_type": "stream",
          "name": "stdout",
          "text": [
            "Fold 4 Epoch 1 - Train Loss: 1.0889 | Val Acc: 0.3805\n"
          ]
        },
        {
          "output_type": "stream",
          "name": "stderr",
          "text": [
            "Fold 4 Epoch 2/150: 100%|██████████| 15/15 [00:02<00:00,  5.24it/s, loss=1.19]\n"
          ]
        },
        {
          "output_type": "stream",
          "name": "stdout",
          "text": [
            "Fold 4 Epoch 2 - Train Loss: 1.0655 | Val Acc: 0.3805\n"
          ]
        },
        {
          "output_type": "stream",
          "name": "stderr",
          "text": [
            "Fold 4 Epoch 3/150: 100%|██████████| 15/15 [00:02<00:00,  5.13it/s, loss=1.01]\n"
          ]
        },
        {
          "output_type": "stream",
          "name": "stdout",
          "text": [
            "Fold 4 Epoch 3 - Train Loss: 1.0522 | Val Acc: 0.3982\n"
          ]
        },
        {
          "output_type": "stream",
          "name": "stderr",
          "text": [
            "Fold 4 Epoch 4/150: 100%|██████████| 15/15 [00:02<00:00,  5.39it/s, loss=1.56]\n"
          ]
        },
        {
          "output_type": "stream",
          "name": "stdout",
          "text": [
            "Fold 4 Epoch 4 - Train Loss: 1.0792 | Val Acc: 0.4248\n"
          ]
        },
        {
          "output_type": "stream",
          "name": "stderr",
          "text": [
            "Fold 4 Epoch 5/150: 100%|██████████| 15/15 [00:02<00:00,  5.39it/s, loss=0.895]\n"
          ]
        },
        {
          "output_type": "stream",
          "name": "stdout",
          "text": [
            "Fold 4 Epoch 5 - Train Loss: 1.0184 | Val Acc: 0.4425\n"
          ]
        },
        {
          "output_type": "stream",
          "name": "stderr",
          "text": [
            "Fold 4 Epoch 6/150: 100%|██████████| 15/15 [00:02<00:00,  5.38it/s, loss=0.969]\n"
          ]
        },
        {
          "output_type": "stream",
          "name": "stdout",
          "text": [
            "Fold 4 Epoch 6 - Train Loss: 1.0312 | Val Acc: 0.4071\n"
          ]
        },
        {
          "output_type": "stream",
          "name": "stderr",
          "text": [
            "Fold 4 Epoch 7/150: 100%|██████████| 15/15 [00:03<00:00,  4.95it/s, loss=0.98]\n"
          ]
        },
        {
          "output_type": "stream",
          "name": "stdout",
          "text": [
            "Fold 4 Epoch 7 - Train Loss: 1.0299 | Val Acc: 0.4071\n"
          ]
        },
        {
          "output_type": "stream",
          "name": "stderr",
          "text": [
            "Fold 4 Epoch 8/150: 100%|██████████| 15/15 [00:02<00:00,  5.34it/s, loss=1.09]\n"
          ]
        },
        {
          "output_type": "stream",
          "name": "stdout",
          "text": [
            "Fold 4 Epoch 8 - Train Loss: 1.0408 | Val Acc: 0.4159\n"
          ]
        },
        {
          "output_type": "stream",
          "name": "stderr",
          "text": [
            "Fold 4 Epoch 9/150: 100%|██████████| 15/15 [00:02<00:00,  5.40it/s, loss=1.23]\n"
          ]
        },
        {
          "output_type": "stream",
          "name": "stdout",
          "text": [
            "Fold 4 Epoch 9 - Train Loss: 1.0253 | Val Acc: 0.4336\n"
          ]
        },
        {
          "output_type": "stream",
          "name": "stderr",
          "text": [
            "Fold 4 Epoch 10/150: 100%|██████████| 15/15 [00:02<00:00,  5.36it/s, loss=1.22]\n"
          ]
        },
        {
          "output_type": "stream",
          "name": "stdout",
          "text": [
            "Fold 4 Epoch 10 - Train Loss: 1.0378 | Val Acc: 0.4248\n"
          ]
        },
        {
          "output_type": "stream",
          "name": "stderr",
          "text": [
            "Fold 4 Epoch 11/150: 100%|██████████| 15/15 [00:02<00:00,  5.06it/s, loss=0.97]\n"
          ]
        },
        {
          "output_type": "stream",
          "name": "stdout",
          "text": [
            "Fold 4 Epoch 11 - Train Loss: 1.0277 | Val Acc: 0.4425\n"
          ]
        },
        {
          "output_type": "stream",
          "name": "stderr",
          "text": [
            "Fold 4 Epoch 12/150: 100%|██████████| 15/15 [00:02<00:00,  5.27it/s, loss=1.16]\n"
          ]
        },
        {
          "output_type": "stream",
          "name": "stdout",
          "text": [
            "Fold 4 Epoch 12 - Train Loss: 1.0267 | Val Acc: 0.4425\n"
          ]
        },
        {
          "output_type": "stream",
          "name": "stderr",
          "text": [
            "Fold 4 Epoch 13/150: 100%|██████████| 15/15 [00:02<00:00,  5.37it/s, loss=0.807]\n"
          ]
        },
        {
          "output_type": "stream",
          "name": "stdout",
          "text": [
            "Fold 4 Epoch 13 - Train Loss: 1.0162 | Val Acc: 0.4867\n"
          ]
        },
        {
          "output_type": "stream",
          "name": "stderr",
          "text": [
            "Fold 4 Epoch 14/150: 100%|██████████| 15/15 [00:02<00:00,  5.35it/s, loss=1.08]\n"
          ]
        },
        {
          "output_type": "stream",
          "name": "stdout",
          "text": [
            "Fold 4 Epoch 14 - Train Loss: 1.0226 | Val Acc: 0.5044\n"
          ]
        },
        {
          "output_type": "stream",
          "name": "stderr",
          "text": [
            "Fold 4 Epoch 15/150: 100%|██████████| 15/15 [00:02<00:00,  5.23it/s, loss=1.24]\n"
          ]
        },
        {
          "output_type": "stream",
          "name": "stdout",
          "text": [
            "Fold 4 Epoch 15 - Train Loss: 1.0332 | Val Acc: 0.5133\n"
          ]
        },
        {
          "output_type": "stream",
          "name": "stderr",
          "text": [
            "Fold 4 Epoch 16/150: 100%|██████████| 15/15 [00:02<00:00,  5.08it/s, loss=1.13]\n"
          ]
        },
        {
          "output_type": "stream",
          "name": "stdout",
          "text": [
            "Fold 4 Epoch 16 - Train Loss: 1.0013 | Val Acc: 0.4336\n"
          ]
        },
        {
          "output_type": "stream",
          "name": "stderr",
          "text": [
            "Fold 4 Epoch 17/150: 100%|██████████| 15/15 [00:02<00:00,  5.40it/s, loss=0.904]\n"
          ]
        },
        {
          "output_type": "stream",
          "name": "stdout",
          "text": [
            "Fold 4 Epoch 17 - Train Loss: 0.9839 | Val Acc: 0.4248\n"
          ]
        },
        {
          "output_type": "stream",
          "name": "stderr",
          "text": [
            "Fold 4 Epoch 18/150: 100%|██████████| 15/15 [00:02<00:00,  5.42it/s, loss=1.35]\n"
          ]
        },
        {
          "output_type": "stream",
          "name": "stdout",
          "text": [
            "Fold 4 Epoch 18 - Train Loss: 0.9926 | Val Acc: 0.4513\n"
          ]
        },
        {
          "output_type": "stream",
          "name": "stderr",
          "text": [
            "Fold 4 Epoch 19/150: 100%|██████████| 15/15 [00:02<00:00,  5.36it/s, loss=0.776]\n"
          ]
        },
        {
          "output_type": "stream",
          "name": "stdout",
          "text": [
            "Fold 4 Epoch 19 - Train Loss: 0.9114 | Val Acc: 0.3717\n"
          ]
        },
        {
          "output_type": "stream",
          "name": "stderr",
          "text": [
            "Fold 4 Epoch 20/150: 100%|██████████| 15/15 [00:03<00:00,  4.98it/s, loss=1.17]\n"
          ]
        },
        {
          "output_type": "stream",
          "name": "stdout",
          "text": [
            "Fold 4 Epoch 20 - Train Loss: 0.9937 | Val Acc: 0.5133\n"
          ]
        },
        {
          "output_type": "stream",
          "name": "stderr",
          "text": [
            "Fold 4 Epoch 21/150: 100%|██████████| 15/15 [00:02<00:00,  5.41it/s, loss=1.03]\n"
          ]
        },
        {
          "output_type": "stream",
          "name": "stdout",
          "text": [
            "Fold 4 Epoch 21 - Train Loss: 0.9123 | Val Acc: 0.5310\n"
          ]
        },
        {
          "output_type": "stream",
          "name": "stderr",
          "text": [
            "Fold 4 Epoch 22/150: 100%|██████████| 15/15 [00:02<00:00,  5.41it/s, loss=0.747]\n"
          ]
        },
        {
          "output_type": "stream",
          "name": "stdout",
          "text": [
            "Fold 4 Epoch 22 - Train Loss: 0.8589 | Val Acc: 0.6549\n"
          ]
        },
        {
          "output_type": "stream",
          "name": "stderr",
          "text": [
            "Fold 4 Epoch 23/150: 100%|██████████| 15/15 [00:02<00:00,  5.37it/s, loss=2.18]\n"
          ]
        },
        {
          "output_type": "stream",
          "name": "stdout",
          "text": [
            "Fold 4 Epoch 23 - Train Loss: 0.9174 | Val Acc: 0.5044\n"
          ]
        },
        {
          "output_type": "stream",
          "name": "stderr",
          "text": [
            "Fold 4 Epoch 24/150: 100%|██████████| 15/15 [00:02<00:00,  5.08it/s, loss=1.14]\n"
          ]
        },
        {
          "output_type": "stream",
          "name": "stdout",
          "text": [
            "Fold 4 Epoch 24 - Train Loss: 0.8661 | Val Acc: 0.4867\n"
          ]
        },
        {
          "output_type": "stream",
          "name": "stderr",
          "text": [
            "Fold 4 Epoch 25/150: 100%|██████████| 15/15 [00:02<00:00,  5.17it/s, loss=0.587]\n"
          ]
        },
        {
          "output_type": "stream",
          "name": "stdout",
          "text": [
            "Fold 4 Epoch 25 - Train Loss: 0.8457 | Val Acc: 0.4071\n"
          ]
        },
        {
          "output_type": "stream",
          "name": "stderr",
          "text": [
            "Fold 4 Epoch 26/150: 100%|██████████| 15/15 [00:02<00:00,  5.36it/s, loss=0.876]\n"
          ]
        },
        {
          "output_type": "stream",
          "name": "stdout",
          "text": [
            "Fold 4 Epoch 26 - Train Loss: 0.8449 | Val Acc: 0.6018\n"
          ]
        },
        {
          "output_type": "stream",
          "name": "stderr",
          "text": [
            "Fold 4 Epoch 27/150: 100%|██████████| 15/15 [00:02<00:00,  5.38it/s, loss=0.748]\n"
          ]
        },
        {
          "output_type": "stream",
          "name": "stdout",
          "text": [
            "Fold 4 Epoch 27 - Train Loss: 0.7874 | Val Acc: 0.6549\n"
          ]
        },
        {
          "output_type": "stream",
          "name": "stderr",
          "text": [
            "Fold 4 Epoch 28/150: 100%|██████████| 15/15 [00:02<00:00,  5.26it/s, loss=0.974]\n"
          ]
        },
        {
          "output_type": "stream",
          "name": "stdout",
          "text": [
            "Fold 4 Epoch 28 - Train Loss: 0.7870 | Val Acc: 0.6726\n"
          ]
        },
        {
          "output_type": "stream",
          "name": "stderr",
          "text": [
            "Fold 4 Epoch 29/150: 100%|██████████| 15/15 [00:02<00:00,  5.04it/s, loss=0.969]\n"
          ]
        },
        {
          "output_type": "stream",
          "name": "stdout",
          "text": [
            "Fold 4 Epoch 29 - Train Loss: 0.7751 | Val Acc: 0.6549\n"
          ]
        },
        {
          "output_type": "stream",
          "name": "stderr",
          "text": [
            "Fold 4 Epoch 30/150: 100%|██████████| 15/15 [00:02<00:00,  5.36it/s, loss=0.845]\n"
          ]
        },
        {
          "output_type": "stream",
          "name": "stdout",
          "text": [
            "Fold 4 Epoch 30 - Train Loss: 0.7758 | Val Acc: 0.6637\n"
          ]
        },
        {
          "output_type": "stream",
          "name": "stderr",
          "text": [
            "Fold 4 Epoch 31/150: 100%|██████████| 15/15 [00:02<00:00,  5.38it/s, loss=0.72]\n"
          ]
        },
        {
          "output_type": "stream",
          "name": "stdout",
          "text": [
            "Fold 4 Epoch 31 - Train Loss: 0.7598 | Val Acc: 0.6991\n"
          ]
        },
        {
          "output_type": "stream",
          "name": "stderr",
          "text": [
            "Fold 4 Epoch 32/150: 100%|██████████| 15/15 [00:02<00:00,  5.38it/s, loss=0.536]\n"
          ]
        },
        {
          "output_type": "stream",
          "name": "stdout",
          "text": [
            "Fold 4 Epoch 32 - Train Loss: 0.7484 | Val Acc: 0.7080\n"
          ]
        },
        {
          "output_type": "stream",
          "name": "stderr",
          "text": [
            "Fold 4 Epoch 33/150: 100%|██████████| 15/15 [00:03<00:00,  4.97it/s, loss=0.65]\n"
          ]
        },
        {
          "output_type": "stream",
          "name": "stdout",
          "text": [
            "Fold 4 Epoch 33 - Train Loss: 0.7157 | Val Acc: 0.6726\n"
          ]
        },
        {
          "output_type": "stream",
          "name": "stderr",
          "text": [
            "Fold 4 Epoch 34/150: 100%|██████████| 15/15 [00:02<00:00,  5.34it/s, loss=1.07]\n"
          ]
        },
        {
          "output_type": "stream",
          "name": "stdout",
          "text": [
            "Fold 4 Epoch 34 - Train Loss: 0.7742 | Val Acc: 0.5664\n"
          ]
        },
        {
          "output_type": "stream",
          "name": "stderr",
          "text": [
            "Fold 4 Epoch 35/150: 100%|██████████| 15/15 [00:02<00:00,  5.39it/s, loss=0.936]\n"
          ]
        },
        {
          "output_type": "stream",
          "name": "stdout",
          "text": [
            "Fold 4 Epoch 35 - Train Loss: 0.8026 | Val Acc: 0.6195\n"
          ]
        },
        {
          "output_type": "stream",
          "name": "stderr",
          "text": [
            "Fold 4 Epoch 36/150: 100%|██████████| 15/15 [00:02<00:00,  5.40it/s, loss=0.826]\n"
          ]
        },
        {
          "output_type": "stream",
          "name": "stdout",
          "text": [
            "Fold 4 Epoch 36 - Train Loss: 0.7601 | Val Acc: 0.5929\n"
          ]
        },
        {
          "output_type": "stream",
          "name": "stderr",
          "text": [
            "Fold 4 Epoch 37/150: 100%|██████████| 15/15 [00:02<00:00,  5.14it/s, loss=1.42]\n"
          ]
        },
        {
          "output_type": "stream",
          "name": "stdout",
          "text": [
            "Fold 4 Epoch 37 - Train Loss: 0.7961 | Val Acc: 0.6283\n"
          ]
        },
        {
          "output_type": "stream",
          "name": "stderr",
          "text": [
            "Fold 4 Epoch 38/150: 100%|██████████| 15/15 [00:02<00:00,  5.17it/s, loss=0.474]\n"
          ]
        },
        {
          "output_type": "stream",
          "name": "stdout",
          "text": [
            "Fold 4 Epoch 38 - Train Loss: 0.7457 | Val Acc: 0.4071\n"
          ]
        },
        {
          "output_type": "stream",
          "name": "stderr",
          "text": [
            "Fold 4 Epoch 39/150: 100%|██████████| 15/15 [00:02<00:00,  5.38it/s, loss=0.564]\n"
          ]
        },
        {
          "output_type": "stream",
          "name": "stdout",
          "text": [
            "Fold 4 Epoch 39 - Train Loss: 0.8317 | Val Acc: 0.4779\n"
          ]
        },
        {
          "output_type": "stream",
          "name": "stderr",
          "text": [
            "Fold 4 Epoch 40/150: 100%|██████████| 15/15 [00:02<00:00,  5.37it/s, loss=0.896]\n"
          ]
        },
        {
          "output_type": "stream",
          "name": "stdout",
          "text": [
            "Fold 4 Epoch 40 - Train Loss: 0.7703 | Val Acc: 0.5487\n"
          ]
        },
        {
          "output_type": "stream",
          "name": "stderr",
          "text": [
            "Fold 4 Epoch 41/150: 100%|██████████| 15/15 [00:02<00:00,  5.25it/s, loss=0.944]\n"
          ]
        },
        {
          "output_type": "stream",
          "name": "stdout",
          "text": [
            "Fold 4 Epoch 41 - Train Loss: 0.7625 | Val Acc: 0.5841\n"
          ]
        },
        {
          "output_type": "stream",
          "name": "stderr",
          "text": [
            "Fold 4 Epoch 42/150: 100%|██████████| 15/15 [00:02<00:00,  5.05it/s, loss=1.36]\n"
          ]
        },
        {
          "output_type": "stream",
          "name": "stdout",
          "text": [
            "Fold 4 Epoch 42 - Train Loss: 0.7911 | Val Acc: 0.6637\n"
          ]
        },
        {
          "output_type": "stream",
          "name": "stderr",
          "text": [
            "Fold 4 Epoch 43/150: 100%|██████████| 15/15 [00:02<00:00,  5.36it/s, loss=0.711]\n"
          ]
        },
        {
          "output_type": "stream",
          "name": "stdout",
          "text": [
            "Fold 4 Epoch 43 - Train Loss: 0.7608 | Val Acc: 0.6726\n"
          ]
        },
        {
          "output_type": "stream",
          "name": "stderr",
          "text": [
            "Fold 4 Epoch 44/150: 100%|██████████| 15/15 [00:02<00:00,  5.38it/s, loss=1.26]\n"
          ]
        },
        {
          "output_type": "stream",
          "name": "stdout",
          "text": [
            "Fold 4 Epoch 44 - Train Loss: 0.7998 | Val Acc: 0.6726\n"
          ]
        },
        {
          "output_type": "stream",
          "name": "stderr",
          "text": [
            "Fold 4 Epoch 45/150: 100%|██████████| 15/15 [00:02<00:00,  5.37it/s, loss=0.657]\n"
          ]
        },
        {
          "output_type": "stream",
          "name": "stdout",
          "text": [
            "Fold 4 Epoch 45 - Train Loss: 0.6782 | Val Acc: 0.7434\n"
          ]
        },
        {
          "output_type": "stream",
          "name": "stderr",
          "text": [
            "Fold 4 Epoch 46/150: 100%|██████████| 15/15 [00:02<00:00,  5.10it/s, loss=1.72]\n"
          ]
        },
        {
          "output_type": "stream",
          "name": "stdout",
          "text": [
            "Fold 4 Epoch 46 - Train Loss: 0.7728 | Val Acc: 0.5487\n"
          ]
        },
        {
          "output_type": "stream",
          "name": "stderr",
          "text": [
            "Fold 4 Epoch 47/150: 100%|██████████| 15/15 [00:02<00:00,  5.34it/s, loss=1.12]\n"
          ]
        },
        {
          "output_type": "stream",
          "name": "stdout",
          "text": [
            "Fold 4 Epoch 47 - Train Loss: 0.6884 | Val Acc: 0.6903\n"
          ]
        },
        {
          "output_type": "stream",
          "name": "stderr",
          "text": [
            "Fold 4 Epoch 48/150: 100%|██████████| 15/15 [00:02<00:00,  5.35it/s, loss=0.518]\n"
          ]
        },
        {
          "output_type": "stream",
          "name": "stdout",
          "text": [
            "Fold 4 Epoch 48 - Train Loss: 0.6488 | Val Acc: 0.7257\n"
          ]
        },
        {
          "output_type": "stream",
          "name": "stderr",
          "text": [
            "Fold 4 Epoch 49/150: 100%|██████████| 15/15 [00:02<00:00,  5.35it/s, loss=0.722]\n"
          ]
        },
        {
          "output_type": "stream",
          "name": "stdout",
          "text": [
            "Fold 4 Epoch 49 - Train Loss: 0.6673 | Val Acc: 0.6814\n"
          ]
        },
        {
          "output_type": "stream",
          "name": "stderr",
          "text": [
            "Fold 4 Epoch 50/150: 100%|██████████| 15/15 [00:02<00:00,  5.17it/s, loss=0.583]\n"
          ]
        },
        {
          "output_type": "stream",
          "name": "stdout",
          "text": [
            "Fold 4 Epoch 50 - Train Loss: 0.6520 | Val Acc: 0.6991\n"
          ]
        },
        {
          "output_type": "stream",
          "name": "stderr",
          "text": [
            "Fold 4 Epoch 51/150: 100%|██████████| 15/15 [00:02<00:00,  5.10it/s, loss=0.477]\n"
          ]
        },
        {
          "output_type": "stream",
          "name": "stdout",
          "text": [
            "Fold 4 Epoch 51 - Train Loss: 0.6376 | Val Acc: 0.6991\n"
          ]
        },
        {
          "output_type": "stream",
          "name": "stderr",
          "text": [
            "Fold 4 Epoch 52/150: 100%|██████████| 15/15 [00:02<00:00,  5.34it/s, loss=0.541]\n"
          ]
        },
        {
          "output_type": "stream",
          "name": "stdout",
          "text": [
            "Fold 4 Epoch 52 - Train Loss: 0.6141 | Val Acc: 0.7168\n"
          ]
        },
        {
          "output_type": "stream",
          "name": "stderr",
          "text": [
            "Fold 4 Epoch 53/150: 100%|██████████| 15/15 [00:02<00:00,  5.35it/s, loss=0.718]\n"
          ]
        },
        {
          "output_type": "stream",
          "name": "stdout",
          "text": [
            "Fold 4 Epoch 53 - Train Loss: 0.6255 | Val Acc: 0.6726\n"
          ]
        },
        {
          "output_type": "stream",
          "name": "stderr",
          "text": [
            "Fold 4 Epoch 54/150: 100%|██████████| 15/15 [00:02<00:00,  5.32it/s, loss=0.46]\n"
          ]
        },
        {
          "output_type": "stream",
          "name": "stdout",
          "text": [
            "Fold 4 Epoch 54 - Train Loss: 0.6383 | Val Acc: 0.6372\n"
          ]
        },
        {
          "output_type": "stream",
          "name": "stderr",
          "text": [
            "Fold 4 Epoch 55/150: 100%|██████████| 15/15 [00:03<00:00,  4.99it/s, loss=0.697]\n"
          ]
        },
        {
          "output_type": "stream",
          "name": "stdout",
          "text": [
            "Fold 4 Epoch 55 - Train Loss: 0.6562 | Val Acc: 0.6991\n"
          ]
        },
        {
          "output_type": "stream",
          "name": "stderr",
          "text": [
            "Fold 4 Epoch 56/150: 100%|██████████| 15/15 [00:02<00:00,  5.36it/s, loss=1.03]\n"
          ]
        },
        {
          "output_type": "stream",
          "name": "stdout",
          "text": [
            "Fold 4 Epoch 56 - Train Loss: 0.6665 | Val Acc: 0.6283\n"
          ]
        },
        {
          "output_type": "stream",
          "name": "stderr",
          "text": [
            "Fold 4 Epoch 57/150: 100%|██████████| 15/15 [00:02<00:00,  5.38it/s, loss=1.2]\n"
          ]
        },
        {
          "output_type": "stream",
          "name": "stdout",
          "text": [
            "Fold 4 Epoch 57 - Train Loss: 0.7196 | Val Acc: 0.6637\n"
          ]
        },
        {
          "output_type": "stream",
          "name": "stderr",
          "text": [
            "Fold 4 Epoch 58/150: 100%|██████████| 15/15 [00:02<00:00,  5.34it/s, loss=0.535]\n"
          ]
        },
        {
          "output_type": "stream",
          "name": "stdout",
          "text": [
            "Fold 4 Epoch 58 - Train Loss: 0.6439 | Val Acc: 0.5929\n"
          ]
        },
        {
          "output_type": "stream",
          "name": "stderr",
          "text": [
            "Fold 4 Epoch 59/150: 100%|██████████| 15/15 [00:02<00:00,  5.02it/s, loss=0.611]\n"
          ]
        },
        {
          "output_type": "stream",
          "name": "stdout",
          "text": [
            "Fold 4 Epoch 59 - Train Loss: 0.6060 | Val Acc: 0.6195\n"
          ]
        },
        {
          "output_type": "stream",
          "name": "stderr",
          "text": [
            "Fold 4 Epoch 60/150: 100%|██████████| 15/15 [00:02<00:00,  5.26it/s, loss=0.56]\n"
          ]
        },
        {
          "output_type": "stream",
          "name": "stdout",
          "text": [
            "Fold 4 Epoch 60 - Train Loss: 0.6975 | Val Acc: 0.5487\n"
          ]
        },
        {
          "output_type": "stream",
          "name": "stderr",
          "text": [
            "Fold 4 Epoch 61/150: 100%|██████████| 15/15 [00:02<00:00,  5.33it/s, loss=0.462]\n"
          ]
        },
        {
          "output_type": "stream",
          "name": "stdout",
          "text": [
            "Fold 4 Epoch 61 - Train Loss: 0.6547 | Val Acc: 0.6991\n"
          ]
        },
        {
          "output_type": "stream",
          "name": "stderr",
          "text": [
            "Fold 4 Epoch 62/150: 100%|██████████| 15/15 [00:02<00:00,  5.34it/s, loss=0.59]\n"
          ]
        },
        {
          "output_type": "stream",
          "name": "stdout",
          "text": [
            "Fold 4 Epoch 62 - Train Loss: 0.5872 | Val Acc: 0.5221\n"
          ]
        },
        {
          "output_type": "stream",
          "name": "stderr",
          "text": [
            "Fold 4 Epoch 63/150: 100%|██████████| 15/15 [00:02<00:00,  5.16it/s, loss=1.84]\n"
          ]
        },
        {
          "output_type": "stream",
          "name": "stdout",
          "text": [
            "Fold 4 Epoch 63 - Train Loss: 0.7140 | Val Acc: 0.5133\n"
          ]
        },
        {
          "output_type": "stream",
          "name": "stderr",
          "text": [
            "Fold 4 Epoch 64/150: 100%|██████████| 15/15 [00:02<00:00,  5.07it/s, loss=0.481]\n"
          ]
        },
        {
          "output_type": "stream",
          "name": "stdout",
          "text": [
            "Fold 4 Epoch 64 - Train Loss: 0.5803 | Val Acc: 0.6195\n"
          ]
        },
        {
          "output_type": "stream",
          "name": "stderr",
          "text": [
            "Fold 4 Epoch 65/150: 100%|██████████| 15/15 [00:02<00:00,  5.35it/s, loss=1.62]\n"
          ]
        },
        {
          "output_type": "stream",
          "name": "stdout",
          "text": [
            "Fold 4 Epoch 65 - Train Loss: 0.6735 | Val Acc: 0.6460\n",
            "Early stopping triggered for fold 4\n",
            "\n",
            "Fold 4 Classification Report:\n",
            "              precision    recall  f1-score   support\n",
            "\n",
            "           0       0.95      0.43      0.59        42\n",
            "           1       0.46      0.66      0.54        32\n",
            "           2       0.71      0.87      0.78        39\n",
            "\n",
            "    accuracy                           0.65       113\n",
            "   macro avg       0.70      0.65      0.64       113\n",
            "weighted avg       0.73      0.65      0.64       113\n",
            "\n"
          ]
        },
        {
          "output_type": "display_data",
          "data": {
            "text/plain": [
              "<Figure size 640x480 with 2 Axes>"
            ],
            "image/png": "[encoded data removed]"
          },
          "metadata": {}
        },
        {
          "output_type": "stream",
          "name": "stdout",
          "text": [
            "\n",
            "Fold 5/5\n"
          ]
        },
        {
          "output_type": "stream",
          "name": "stderr",
          "text": [
            "Fold 5 Epoch 1/150: 100%|██████████| 15/15 [00:02<00:00,  5.31it/s, loss=1.04]\n"
          ]
        },
        {
          "output_type": "stream",
          "name": "stdout",
          "text": [
            "Fold 5 Epoch 1 - Train Loss: 1.0803 | Val Acc: 0.5357\n"
          ]
        },
        {
          "output_type": "stream",
          "name": "stderr",
          "text": [
            "Fold 5 Epoch 2/150: 100%|██████████| 15/15 [00:02<00:00,  5.32it/s, loss=1.05]\n"
          ]
        },
        {
          "output_type": "stream",
          "name": "stdout",
          "text": [
            "Fold 5 Epoch 2 - Train Loss: 1.0543 | Val Acc: 0.4643\n"
          ]
        },
        {
          "output_type": "stream",
          "name": "stderr",
          "text": [
            "Fold 5 Epoch 3/150: 100%|██████████| 15/15 [00:03<00:00,  4.91it/s, loss=1.06]\n"
          ]
        },
        {
          "output_type": "stream",
          "name": "stdout",
          "text": [
            "Fold 5 Epoch 3 - Train Loss: 1.0362 | Val Acc: 0.4464\n"
          ]
        },
        {
          "output_type": "stream",
          "name": "stderr",
          "text": [
            "Fold 5 Epoch 4/150: 100%|██████████| 15/15 [00:02<00:00,  5.32it/s, loss=1.1]\n"
          ]
        },
        {
          "output_type": "stream",
          "name": "stdout",
          "text": [
            "Fold 5 Epoch 4 - Train Loss: 1.0459 | Val Acc: 0.3839\n"
          ]
        },
        {
          "output_type": "stream",
          "name": "stderr",
          "text": [
            "Fold 5 Epoch 5/150: 100%|██████████| 15/15 [00:02<00:00,  5.25it/s, loss=1.17]\n"
          ]
        },
        {
          "output_type": "stream",
          "name": "stdout",
          "text": [
            "Fold 5 Epoch 5 - Train Loss: 1.0377 | Val Acc: 0.4554\n"
          ]
        },
        {
          "output_type": "stream",
          "name": "stderr",
          "text": [
            "Fold 5 Epoch 6/150: 100%|██████████| 15/15 [00:02<00:00,  5.03it/s, loss=0.993]\n"
          ]
        },
        {
          "output_type": "stream",
          "name": "stdout",
          "text": [
            "Fold 5 Epoch 6 - Train Loss: 1.0475 | Val Acc: 0.4554\n"
          ]
        },
        {
          "output_type": "stream",
          "name": "stderr",
          "text": [
            "Fold 5 Epoch 7/150: 100%|██████████| 15/15 [00:02<00:00,  5.00it/s, loss=0.963]\n"
          ]
        },
        {
          "output_type": "stream",
          "name": "stdout",
          "text": [
            "Fold 5 Epoch 7 - Train Loss: 1.0272 | Val Acc: 0.5446\n"
          ]
        },
        {
          "output_type": "stream",
          "name": "stderr",
          "text": [
            "Fold 5 Epoch 8/150: 100%|██████████| 15/15 [00:02<00:00,  5.26it/s, loss=1.08]\n"
          ]
        },
        {
          "output_type": "stream",
          "name": "stdout",
          "text": [
            "Fold 5 Epoch 8 - Train Loss: 1.0385 | Val Acc: 0.4911\n"
          ]
        },
        {
          "output_type": "stream",
          "name": "stderr",
          "text": [
            "Fold 5 Epoch 9/150: 100%|██████████| 15/15 [00:02<00:00,  5.34it/s, loss=0.992]\n"
          ]
        },
        {
          "output_type": "stream",
          "name": "stdout",
          "text": [
            "Fold 5 Epoch 9 - Train Loss: 1.0171 | Val Acc: 0.4911\n"
          ]
        },
        {
          "output_type": "stream",
          "name": "stderr",
          "text": [
            "Fold 5 Epoch 10/150: 100%|██████████| 15/15 [00:02<00:00,  5.30it/s, loss=0.924]\n"
          ]
        },
        {
          "output_type": "stream",
          "name": "stdout",
          "text": [
            "Fold 5 Epoch 10 - Train Loss: 1.0106 | Val Acc: 0.4911\n"
          ]
        },
        {
          "output_type": "stream",
          "name": "stderr",
          "text": [
            "Fold 5 Epoch 11/150: 100%|██████████| 15/15 [00:02<00:00,  5.15it/s, loss=1.02]\n"
          ]
        },
        {
          "output_type": "stream",
          "name": "stdout",
          "text": [
            "Fold 5 Epoch 11 - Train Loss: 1.0211 | Val Acc: 0.5179\n"
          ]
        },
        {
          "output_type": "stream",
          "name": "stderr",
          "text": [
            "Fold 5 Epoch 12/150: 100%|██████████| 15/15 [00:02<00:00,  5.12it/s, loss=1.13]\n"
          ]
        },
        {
          "output_type": "stream",
          "name": "stdout",
          "text": [
            "Fold 5 Epoch 12 - Train Loss: 1.0387 | Val Acc: 0.5268\n"
          ]
        },
        {
          "output_type": "stream",
          "name": "stderr",
          "text": [
            "Fold 5 Epoch 13/150: 100%|██████████| 15/15 [00:02<00:00,  5.29it/s, loss=1.08]\n"
          ]
        },
        {
          "output_type": "stream",
          "name": "stdout",
          "text": [
            "Fold 5 Epoch 13 - Train Loss: 1.0185 | Val Acc: 0.5625\n"
          ]
        },
        {
          "output_type": "stream",
          "name": "stderr",
          "text": [
            "Fold 5 Epoch 14/150: 100%|██████████| 15/15 [00:02<00:00,  5.34it/s, loss=0.832]\n"
          ]
        },
        {
          "output_type": "stream",
          "name": "stdout",
          "text": [
            "Fold 5 Epoch 14 - Train Loss: 0.9915 | Val Acc: 0.5536\n"
          ]
        },
        {
          "output_type": "stream",
          "name": "stderr",
          "text": [
            "Fold 5 Epoch 15/150: 100%|██████████| 15/15 [00:02<00:00,  5.30it/s, loss=0.958]\n"
          ]
        },
        {
          "output_type": "stream",
          "name": "stdout",
          "text": [
            "Fold 5 Epoch 15 - Train Loss: 1.0174 | Val Acc: 0.5714\n"
          ]
        },
        {
          "output_type": "stream",
          "name": "stderr",
          "text": [
            "Fold 5 Epoch 16/150: 100%|██████████| 15/15 [00:03<00:00,  4.97it/s, loss=1.25]\n"
          ]
        },
        {
          "output_type": "stream",
          "name": "stdout",
          "text": [
            "Fold 5 Epoch 16 - Train Loss: 0.9858 | Val Acc: 0.5089\n"
          ]
        },
        {
          "output_type": "stream",
          "name": "stderr",
          "text": [
            "Fold 5 Epoch 17/150: 100%|██████████| 15/15 [00:02<00:00,  5.35it/s, loss=1.19]\n"
          ]
        },
        {
          "output_type": "stream",
          "name": "stdout",
          "text": [
            "Fold 5 Epoch 17 - Train Loss: 0.9895 | Val Acc: 0.6161\n"
          ]
        },
        {
          "output_type": "stream",
          "name": "stderr",
          "text": [
            "Fold 5 Epoch 18/150: 100%|██████████| 15/15 [00:02<00:00,  5.34it/s, loss=0.617]\n"
          ]
        },
        {
          "output_type": "stream",
          "name": "stdout",
          "text": [
            "Fold 5 Epoch 18 - Train Loss: 0.9200 | Val Acc: 0.5536\n"
          ]
        },
        {
          "output_type": "stream",
          "name": "stderr",
          "text": [
            "Fold 5 Epoch 19/150: 100%|██████████| 15/15 [00:02<00:00,  5.30it/s, loss=0.895]\n"
          ]
        },
        {
          "output_type": "stream",
          "name": "stdout",
          "text": [
            "Fold 5 Epoch 19 - Train Loss: 0.9453 | Val Acc: 0.5982\n"
          ]
        },
        {
          "output_type": "stream",
          "name": "stderr",
          "text": [
            "Fold 5 Epoch 20/150: 100%|██████████| 15/15 [00:03<00:00,  4.97it/s, loss=0.723]\n"
          ]
        },
        {
          "output_type": "stream",
          "name": "stdout",
          "text": [
            "Fold 5 Epoch 20 - Train Loss: 0.9111 | Val Acc: 0.5089\n"
          ]
        },
        {
          "output_type": "stream",
          "name": "stderr",
          "text": [
            "Fold 5 Epoch 21/150: 100%|██████████| 15/15 [00:02<00:00,  5.26it/s, loss=0.921]\n"
          ]
        },
        {
          "output_type": "stream",
          "name": "stdout",
          "text": [
            "Fold 5 Epoch 21 - Train Loss: 0.8993 | Val Acc: 0.6607\n"
          ]
        },
        {
          "output_type": "stream",
          "name": "stderr",
          "text": [
            "Fold 5 Epoch 22/150: 100%|██████████| 15/15 [00:02<00:00,  5.35it/s, loss=1.37]\n"
          ]
        },
        {
          "output_type": "stream",
          "name": "stdout",
          "text": [
            "Fold 5 Epoch 22 - Train Loss: 0.8904 | Val Acc: 0.5625\n"
          ]
        },
        {
          "output_type": "stream",
          "name": "stderr",
          "text": [
            "Fold 5 Epoch 23/150: 100%|██████████| 15/15 [00:02<00:00,  5.31it/s, loss=1.36]\n"
          ]
        },
        {
          "output_type": "stream",
          "name": "stdout",
          "text": [
            "Fold 5 Epoch 23 - Train Loss: 0.8712 | Val Acc: 0.7054\n"
          ]
        },
        {
          "output_type": "stream",
          "name": "stderr",
          "text": [
            "Fold 5 Epoch 24/150: 100%|██████████| 15/15 [00:02<00:00,  5.05it/s, loss=0.703]\n"
          ]
        },
        {
          "output_type": "stream",
          "name": "stdout",
          "text": [
            "Fold 5 Epoch 24 - Train Loss: 0.7618 | Val Acc: 0.6607\n"
          ]
        },
        {
          "output_type": "stream",
          "name": "stderr",
          "text": [
            "Fold 5 Epoch 25/150: 100%|██████████| 15/15 [00:02<00:00,  5.20it/s, loss=1.27]\n"
          ]
        },
        {
          "output_type": "stream",
          "name": "stdout",
          "text": [
            "Fold 5 Epoch 25 - Train Loss: 0.8489 | Val Acc: 0.3750\n"
          ]
        },
        {
          "output_type": "stream",
          "name": "stderr",
          "text": [
            "Fold 5 Epoch 26/150: 100%|██████████| 15/15 [00:02<00:00,  5.35it/s, loss=0.556]\n"
          ]
        },
        {
          "output_type": "stream",
          "name": "stdout",
          "text": [
            "Fold 5 Epoch 26 - Train Loss: 0.8098 | Val Acc: 0.4464\n"
          ]
        },
        {
          "output_type": "stream",
          "name": "stderr",
          "text": [
            "Fold 5 Epoch 27/150: 100%|██████████| 15/15 [00:02<00:00,  5.32it/s, loss=1.2]\n"
          ]
        },
        {
          "output_type": "stream",
          "name": "stdout",
          "text": [
            "Fold 5 Epoch 27 - Train Loss: 0.8307 | Val Acc: 0.5089\n"
          ]
        },
        {
          "output_type": "stream",
          "name": "stderr",
          "text": [
            "Fold 5 Epoch 28/150: 100%|██████████| 15/15 [00:02<00:00,  5.24it/s, loss=0.67]\n"
          ]
        },
        {
          "output_type": "stream",
          "name": "stdout",
          "text": [
            "Fold 5 Epoch 28 - Train Loss: 0.7838 | Val Acc: 0.7321\n"
          ]
        },
        {
          "output_type": "stream",
          "name": "stderr",
          "text": [
            "Fold 5 Epoch 29/150: 100%|██████████| 15/15 [00:02<00:00,  5.02it/s, loss=0.616]\n"
          ]
        },
        {
          "output_type": "stream",
          "name": "stdout",
          "text": [
            "Fold 5 Epoch 29 - Train Loss: 0.7173 | Val Acc: 0.7143\n"
          ]
        },
        {
          "output_type": "stream",
          "name": "stderr",
          "text": [
            "Fold 5 Epoch 30/150: 100%|██████████| 15/15 [00:02<00:00,  5.36it/s, loss=0.871]\n"
          ]
        },
        {
          "output_type": "stream",
          "name": "stdout",
          "text": [
            "Fold 5 Epoch 30 - Train Loss: 0.7782 | Val Acc: 0.7143\n"
          ]
        },
        {
          "output_type": "stream",
          "name": "stderr",
          "text": [
            "Fold 5 Epoch 31/150: 100%|██████████| 15/15 [00:02<00:00,  5.34it/s, loss=0.623]\n"
          ]
        },
        {
          "output_type": "stream",
          "name": "stdout",
          "text": [
            "Fold 5 Epoch 31 - Train Loss: 0.7436 | Val Acc: 0.7589\n"
          ]
        },
        {
          "output_type": "stream",
          "name": "stderr",
          "text": [
            "Fold 5 Epoch 32/150: 100%|██████████| 15/15 [00:02<00:00,  5.34it/s, loss=0.604]\n"
          ]
        },
        {
          "output_type": "stream",
          "name": "stdout",
          "text": [
            "Fold 5 Epoch 32 - Train Loss: 0.7270 | Val Acc: 0.7768\n"
          ]
        },
        {
          "output_type": "stream",
          "name": "stderr",
          "text": [
            "Fold 5 Epoch 33/150: 100%|██████████| 15/15 [00:02<00:00,  5.04it/s, loss=1.57]\n"
          ]
        },
        {
          "output_type": "stream",
          "name": "stdout",
          "text": [
            "Fold 5 Epoch 33 - Train Loss: 0.7941 | Val Acc: 0.7679\n"
          ]
        },
        {
          "output_type": "stream",
          "name": "stderr",
          "text": [
            "Fold 5 Epoch 34/150: 100%|██████████| 15/15 [00:02<00:00,  5.32it/s, loss=1.27]\n"
          ]
        },
        {
          "output_type": "stream",
          "name": "stdout",
          "text": [
            "Fold 5 Epoch 34 - Train Loss: 0.7747 | Val Acc: 0.8393\n"
          ]
        },
        {
          "output_type": "stream",
          "name": "stderr",
          "text": [
            "Fold 5 Epoch 35/150: 100%|██████████| 15/15 [00:02<00:00,  5.29it/s, loss=0.556]\n"
          ]
        },
        {
          "output_type": "stream",
          "name": "stdout",
          "text": [
            "Fold 5 Epoch 35 - Train Loss: 0.6913 | Val Acc: 0.5268\n"
          ]
        },
        {
          "output_type": "stream",
          "name": "stderr",
          "text": [
            "Fold 5 Epoch 36/150: 100%|██████████| 15/15 [00:02<00:00,  5.27it/s, loss=0.788]\n"
          ]
        },
        {
          "output_type": "stream",
          "name": "stdout",
          "text": [
            "Fold 5 Epoch 36 - Train Loss: 0.7422 | Val Acc: 0.3839\n"
          ]
        },
        {
          "output_type": "stream",
          "name": "stderr",
          "text": [
            "Fold 5 Epoch 37/150: 100%|██████████| 15/15 [00:02<00:00,  5.11it/s, loss=0.568]\n"
          ]
        },
        {
          "output_type": "stream",
          "name": "stdout",
          "text": [
            "Fold 5 Epoch 37 - Train Loss: 0.7263 | Val Acc: 0.5268\n"
          ]
        },
        {
          "output_type": "stream",
          "name": "stderr",
          "text": [
            "Fold 5 Epoch 38/150: 100%|██████████| 15/15 [00:02<00:00,  5.04it/s, loss=0.729]\n"
          ]
        },
        {
          "output_type": "stream",
          "name": "stdout",
          "text": [
            "Fold 5 Epoch 38 - Train Loss: 0.7100 | Val Acc: 0.5268\n"
          ]
        },
        {
          "output_type": "stream",
          "name": "stderr",
          "text": [
            "Fold 5 Epoch 39/150: 100%|██████████| 15/15 [00:02<00:00,  5.30it/s, loss=0.689]\n"
          ]
        },
        {
          "output_type": "stream",
          "name": "stdout",
          "text": [
            "Fold 5 Epoch 39 - Train Loss: 0.7884 | Val Acc: 0.6786\n"
          ]
        },
        {
          "output_type": "stream",
          "name": "stderr",
          "text": [
            "Fold 5 Epoch 40/150: 100%|██████████| 15/15 [00:02<00:00,  5.29it/s, loss=0.704]\n"
          ]
        },
        {
          "output_type": "stream",
          "name": "stdout",
          "text": [
            "Fold 5 Epoch 40 - Train Loss: 0.7316 | Val Acc: 0.7768\n"
          ]
        },
        {
          "output_type": "stream",
          "name": "stderr",
          "text": [
            "Fold 5 Epoch 41/150: 100%|██████████| 15/15 [00:02<00:00,  5.29it/s, loss=0.639]\n"
          ]
        },
        {
          "output_type": "stream",
          "name": "stdout",
          "text": [
            "Fold 5 Epoch 41 - Train Loss: 0.7420 | Val Acc: 0.4286\n"
          ]
        },
        {
          "output_type": "stream",
          "name": "stderr",
          "text": [
            "Fold 5 Epoch 42/150: 100%|██████████| 15/15 [00:02<00:00,  5.04it/s, loss=1.1]\n"
          ]
        },
        {
          "output_type": "stream",
          "name": "stdout",
          "text": [
            "Fold 5 Epoch 42 - Train Loss: 0.7440 | Val Acc: 0.7143\n"
          ]
        },
        {
          "output_type": "stream",
          "name": "stderr",
          "text": [
            "Fold 5 Epoch 43/150: 100%|██████████| 15/15 [00:02<00:00,  5.33it/s, loss=0.653]\n"
          ]
        },
        {
          "output_type": "stream",
          "name": "stdout",
          "text": [
            "Fold 5 Epoch 43 - Train Loss: 0.7054 | Val Acc: 0.6786\n"
          ]
        },
        {
          "output_type": "stream",
          "name": "stderr",
          "text": [
            "Fold 5 Epoch 44/150: 100%|██████████| 15/15 [00:02<00:00,  5.32it/s, loss=0.952]\n"
          ]
        },
        {
          "output_type": "stream",
          "name": "stdout",
          "text": [
            "Fold 5 Epoch 44 - Train Loss: 0.7121 | Val Acc: 0.7143\n"
          ]
        },
        {
          "output_type": "stream",
          "name": "stderr",
          "text": [
            "Fold 5 Epoch 45/150: 100%|██████████| 15/15 [00:02<00:00,  5.32it/s, loss=0.587]\n"
          ]
        },
        {
          "output_type": "stream",
          "name": "stdout",
          "text": [
            "Fold 5 Epoch 45 - Train Loss: 0.6610 | Val Acc: 0.7054\n"
          ]
        },
        {
          "output_type": "stream",
          "name": "stderr",
          "text": [
            "Fold 5 Epoch 46/150: 100%|██████████| 15/15 [00:03<00:00,  5.00it/s, loss=0.547]\n"
          ]
        },
        {
          "output_type": "stream",
          "name": "stdout",
          "text": [
            "Fold 5 Epoch 46 - Train Loss: 0.6445 | Val Acc: 0.7143\n"
          ]
        },
        {
          "output_type": "stream",
          "name": "stderr",
          "text": [
            "Fold 5 Epoch 47/150: 100%|██████████| 15/15 [00:02<00:00,  5.26it/s, loss=0.64]\n"
          ]
        },
        {
          "output_type": "stream",
          "name": "stdout",
          "text": [
            "Fold 5 Epoch 47 - Train Loss: 0.6260 | Val Acc: 0.7946\n"
          ]
        },
        {
          "output_type": "stream",
          "name": "stderr",
          "text": [
            "Fold 5 Epoch 48/150: 100%|██████████| 15/15 [00:02<00:00,  5.33it/s, loss=0.913]\n"
          ]
        },
        {
          "output_type": "stream",
          "name": "stdout",
          "text": [
            "Fold 5 Epoch 48 - Train Loss: 0.6111 | Val Acc: 0.7589\n"
          ]
        },
        {
          "output_type": "stream",
          "name": "stderr",
          "text": [
            "Fold 5 Epoch 49/150: 100%|██████████| 15/15 [00:02<00:00,  5.33it/s, loss=0.514]\n"
          ]
        },
        {
          "output_type": "stream",
          "name": "stdout",
          "text": [
            "Fold 5 Epoch 49 - Train Loss: 0.6181 | Val Acc: 0.7500\n"
          ]
        },
        {
          "output_type": "stream",
          "name": "stderr",
          "text": [
            "Fold 5 Epoch 50/150: 100%|██████████| 15/15 [00:02<00:00,  5.21it/s, loss=0.509]\n"
          ]
        },
        {
          "output_type": "stream",
          "name": "stdout",
          "text": [
            "Fold 5 Epoch 50 - Train Loss: 0.6044 | Val Acc: 0.7411\n"
          ]
        },
        {
          "output_type": "stream",
          "name": "stderr",
          "text": [
            "Fold 5 Epoch 51/150: 100%|██████████| 15/15 [00:02<00:00,  5.09it/s, loss=0.932]\n"
          ]
        },
        {
          "output_type": "stream",
          "name": "stdout",
          "text": [
            "Fold 5 Epoch 51 - Train Loss: 0.6139 | Val Acc: 0.7321\n"
          ]
        },
        {
          "output_type": "stream",
          "name": "stderr",
          "text": [
            "Fold 5 Epoch 52/150: 100%|██████████| 15/15 [00:02<00:00,  5.30it/s, loss=0.938]\n"
          ]
        },
        {
          "output_type": "stream",
          "name": "stdout",
          "text": [
            "Fold 5 Epoch 52 - Train Loss: 0.6137 | Val Acc: 0.7589\n"
          ]
        },
        {
          "output_type": "stream",
          "name": "stderr",
          "text": [
            "Fold 5 Epoch 53/150: 100%|██████████| 15/15 [00:02<00:00,  5.35it/s, loss=0.496]\n"
          ]
        },
        {
          "output_type": "stream",
          "name": "stdout",
          "text": [
            "Fold 5 Epoch 53 - Train Loss: 0.6045 | Val Acc: 0.5714\n"
          ]
        },
        {
          "output_type": "stream",
          "name": "stderr",
          "text": [
            "Fold 5 Epoch 54/150: 100%|██████████| 15/15 [00:02<00:00,  5.31it/s, loss=1.73]\n"
          ]
        },
        {
          "output_type": "stream",
          "name": "stdout",
          "text": [
            "Fold 5 Epoch 54 - Train Loss: 0.7037 | Val Acc: 0.7946\n",
            "Early stopping triggered for fold 5\n",
            "\n",
            "Fold 5 Classification Report:\n",
            "              precision    recall  f1-score   support\n",
            "\n",
            "           0       0.88      0.57      0.69        37\n",
            "           1       0.64      0.89      0.75        38\n",
            "           2       0.97      0.92      0.94        37\n",
            "\n",
            "    accuracy                           0.79       112\n",
            "   macro avg       0.83      0.79      0.79       112\n",
            "weighted avg       0.83      0.79      0.79       112\n",
            "\n"
          ]
        },
        {
          "output_type": "display_data",
          "data": {
            "text/plain": [
              "<Figure size 640x480 with 2 Axes>"
            ],
            "image/png": "[encoded data removed]"
          },
          "metadata": {}
        },
        {
          "output_type": "stream",
          "name": "stdout",
          "text": [
            "\n",
            "K-Fold Cross-Validation Results:\n",
            "Fold Accuracies: ['0.6903', '0.6903', '0.7168', '0.7434', '0.8393']\n",
            "Average Validation Accuracy: 0.7360\n",
            "Best model exported to ONNX format: best_model.onnx\n",
            "Warning: Average validation accuracy is below 80%. Consider:\n",
            "1. Collecting more EEG data to increase sample size.\n",
            "2. Applying advanced EEG feature extraction (e.g., wavelet transforms).\n",
            "3. Experimenting with different architectures (e.g., transformers).\n",
            "4. Fine-tuning hyperparameters (learning rate, batch size).\n"
          ]
        }
      ]
    },
    {
      "cell_type": "code",
      "source": [],
      "metadata": {
        "id": "413caJkZE__T"
      },
      "execution_count": null,
      "outputs": []
    }
  ]
}